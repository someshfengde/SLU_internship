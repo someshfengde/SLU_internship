{
 "cells": [
  {
   "cell_type": "code",
   "execution_count": 10,
   "metadata": {},
   "outputs": [],
   "source": [
    "import pandas as pd\n",
    "import numpy as np \n",
    "import matplotlib.pyplot as plt \n",
    "import plotly.express as px "
   ]
  },
  {
   "cell_type": "code",
   "execution_count": 11,
   "metadata": {},
   "outputs": [],
   "source": [
    "data = pd.read_csv(\"./data/Data from Marketing Team - Sheet1.csv\")"
   ]
  },
  {
   "cell_type": "code",
   "execution_count": 12,
   "metadata": {},
   "outputs": [
    {
     "data": {
      "text/html": [
       "<div>\n",
       "<style scoped>\n",
       "    .dataframe tbody tr th:only-of-type {\n",
       "        vertical-align: middle;\n",
       "    }\n",
       "\n",
       "    .dataframe tbody tr th {\n",
       "        vertical-align: top;\n",
       "    }\n",
       "\n",
       "    .dataframe thead th {\n",
       "        text-align: right;\n",
       "    }\n",
       "</style>\n",
       "<table border=\"1\" class=\"dataframe\">\n",
       "  <thead>\n",
       "    <tr style=\"text-align: right;\">\n",
       "      <th></th>\n",
       "      <th>Campaign ID</th>\n",
       "      <th>Campaign Name</th>\n",
       "      <th>Audience</th>\n",
       "      <th>Age</th>\n",
       "      <th>Geography</th>\n",
       "      <th>Reach</th>\n",
       "      <th>Impressions</th>\n",
       "      <th>Frequency</th>\n",
       "      <th>Clicks</th>\n",
       "      <th>Unique Clicks</th>\n",
       "      <th>Unique Link Clicks (ULC)</th>\n",
       "      <th>Click-Through Rate (CTR)</th>\n",
       "      <th>Unique Click-Through Rate (Unique CTR)</th>\n",
       "      <th>Amount Spent in INR</th>\n",
       "      <th>Cost per Result (CPR)</th>\n",
       "      <th>Cost Per Click (CPC)</th>\n",
       "      <th>Revenue</th>\n",
       "    </tr>\n",
       "  </thead>\n",
       "  <tbody>\n",
       "    <tr>\n",
       "      <th>0</th>\n",
       "      <td>Campaign 1</td>\n",
       "      <td>SHU_6 (Educators and Principals)</td>\n",
       "      <td>Educators and Principals</td>\n",
       "      <td>25-34</td>\n",
       "      <td>Group 1 (Australia, Canada, United Kingdom, Gh...</td>\n",
       "      <td>11387</td>\n",
       "      <td>23283</td>\n",
       "      <td>2.044700</td>\n",
       "      <td>487</td>\n",
       "      <td>406</td>\n",
       "      <td>180</td>\n",
       "      <td>2.091655</td>\n",
       "      <td>3.565469</td>\n",
       "      <td>1092.24</td>\n",
       "      <td>6.07</td>\n",
       "      <td>2.242790</td>\n",
       "      <td>1092.238774</td>\n",
       "    </tr>\n",
       "    <tr>\n",
       "      <th>1</th>\n",
       "      <td>Campaign 1</td>\n",
       "      <td>SHU_6 (Educators and Principals)</td>\n",
       "      <td>Educators and Principals</td>\n",
       "      <td>55-64</td>\n",
       "      <td>Group 1 (Australia, Canada, United Kingdom, Gh...</td>\n",
       "      <td>889</td>\n",
       "      <td>1890</td>\n",
       "      <td>2.125984</td>\n",
       "      <td>49</td>\n",
       "      <td>40</td>\n",
       "      <td>21</td>\n",
       "      <td>2.592593</td>\n",
       "      <td>4.499438</td>\n",
       "      <td>86.25</td>\n",
       "      <td>4.11</td>\n",
       "      <td>1.760117</td>\n",
       "      <td>86.245713</td>\n",
       "    </tr>\n",
       "    <tr>\n",
       "      <th>2</th>\n",
       "      <td>Campaign 1</td>\n",
       "      <td>SHU_6 (Educators and Principals)</td>\n",
       "      <td>Educators and Principals</td>\n",
       "      <td>35-44</td>\n",
       "      <td>Group 1 (Australia, Canada, United Kingdom, Gh...</td>\n",
       "      <td>8761</td>\n",
       "      <td>15683</td>\n",
       "      <td>1.790092</td>\n",
       "      <td>484</td>\n",
       "      <td>376</td>\n",
       "      <td>154</td>\n",
       "      <td>3.086144</td>\n",
       "      <td>4.291748</td>\n",
       "      <td>835.46</td>\n",
       "      <td>5.43</td>\n",
       "      <td>1.726165</td>\n",
       "      <td>835.464044</td>\n",
       "    </tr>\n",
       "    <tr>\n",
       "      <th>3</th>\n",
       "      <td>Campaign 1</td>\n",
       "      <td>SHU_6 (Educators and Principals)</td>\n",
       "      <td>Educators and Principals</td>\n",
       "      <td>45-54</td>\n",
       "      <td>Group 1 (Australia, Canada, United Kingdom, Gh...</td>\n",
       "      <td>2867</td>\n",
       "      <td>6283</td>\n",
       "      <td>2.191489</td>\n",
       "      <td>198</td>\n",
       "      <td>145</td>\n",
       "      <td>65</td>\n",
       "      <td>3.151361</td>\n",
       "      <td>5.057551</td>\n",
       "      <td>319.38</td>\n",
       "      <td>4.91</td>\n",
       "      <td>1.613038</td>\n",
       "      <td>319.381470</td>\n",
       "    </tr>\n",
       "    <tr>\n",
       "      <th>4</th>\n",
       "      <td>Campaign 10</td>\n",
       "      <td>SHU_Students(UK)</td>\n",
       "      <td>Students</td>\n",
       "      <td>13-17</td>\n",
       "      <td>UK</td>\n",
       "      <td>2557</td>\n",
       "      <td>2941</td>\n",
       "      <td>1.150176</td>\n",
       "      <td>69</td>\n",
       "      <td>60</td>\n",
       "      <td>33</td>\n",
       "      <td>2.346141</td>\n",
       "      <td>2.346500</td>\n",
       "      <td>487.52</td>\n",
       "      <td>14.77</td>\n",
       "      <td>7.065507</td>\n",
       "      <td>487.520000</td>\n",
       "    </tr>\n",
       "  </tbody>\n",
       "</table>\n",
       "</div>"
      ],
      "text/plain": [
       "   Campaign ID                     Campaign Name                  Audience  \\\n",
       "0   Campaign 1  SHU_6 (Educators and Principals)  Educators and Principals   \n",
       "1   Campaign 1  SHU_6 (Educators and Principals)  Educators and Principals   \n",
       "2   Campaign 1  SHU_6 (Educators and Principals)  Educators and Principals   \n",
       "3   Campaign 1  SHU_6 (Educators and Principals)  Educators and Principals   \n",
       "4  Campaign 10                  SHU_Students(UK)                  Students   \n",
       "\n",
       "     Age                                          Geography  Reach  \\\n",
       "0  25-34  Group 1 (Australia, Canada, United Kingdom, Gh...  11387   \n",
       "1  55-64  Group 1 (Australia, Canada, United Kingdom, Gh...    889   \n",
       "2  35-44  Group 1 (Australia, Canada, United Kingdom, Gh...   8761   \n",
       "3  45-54  Group 1 (Australia, Canada, United Kingdom, Gh...   2867   \n",
       "4  13-17                                                 UK   2557   \n",
       "\n",
       "   Impressions  Frequency  Clicks  Unique Clicks  Unique Link Clicks (ULC)  \\\n",
       "0        23283   2.044700     487            406                       180   \n",
       "1         1890   2.125984      49             40                        21   \n",
       "2        15683   1.790092     484            376                       154   \n",
       "3         6283   2.191489     198            145                        65   \n",
       "4         2941   1.150176      69             60                        33   \n",
       "\n",
       "   Click-Through Rate (CTR)  Unique Click-Through Rate (Unique CTR)  \\\n",
       "0                  2.091655                                3.565469   \n",
       "1                  2.592593                                4.499438   \n",
       "2                  3.086144                                4.291748   \n",
       "3                  3.151361                                5.057551   \n",
       "4                  2.346141                                2.346500   \n",
       "\n",
       "   Amount Spent in INR  Cost per Result (CPR)  Cost Per Click (CPC)  \\\n",
       "0              1092.24                   6.07              2.242790   \n",
       "1                86.25                   4.11              1.760117   \n",
       "2               835.46                   5.43              1.726165   \n",
       "3               319.38                   4.91              1.613038   \n",
       "4               487.52                  14.77              7.065507   \n",
       "\n",
       "       Revenue  \n",
       "0  1092.238774  \n",
       "1    86.245713  \n",
       "2   835.464044  \n",
       "3   319.381470  \n",
       "4   487.520000  "
      ]
     },
     "execution_count": 12,
     "metadata": {},
     "output_type": "execute_result"
    }
   ],
   "source": [
    "data.head()"
   ]
  },
  {
   "cell_type": "code",
   "execution_count": 13,
   "metadata": {},
   "outputs": [
    {
     "data": {
      "text/html": [
       "<div>\n",
       "<style scoped>\n",
       "    .dataframe tbody tr th:only-of-type {\n",
       "        vertical-align: middle;\n",
       "    }\n",
       "\n",
       "    .dataframe tbody tr th {\n",
       "        vertical-align: top;\n",
       "    }\n",
       "\n",
       "    .dataframe thead th {\n",
       "        text-align: right;\n",
       "    }\n",
       "</style>\n",
       "<table border=\"1\" class=\"dataframe\">\n",
       "  <thead>\n",
       "    <tr style=\"text-align: right;\">\n",
       "      <th></th>\n",
       "      <th>Reach</th>\n",
       "      <th>Impressions</th>\n",
       "      <th>Frequency</th>\n",
       "      <th>Clicks</th>\n",
       "      <th>Unique Clicks</th>\n",
       "      <th>Unique Link Clicks (ULC)</th>\n",
       "      <th>Click-Through Rate (CTR)</th>\n",
       "      <th>Unique Click-Through Rate (Unique CTR)</th>\n",
       "      <th>Amount Spent in INR</th>\n",
       "      <th>Cost per Result (CPR)</th>\n",
       "      <th>Cost Per Click (CPC)</th>\n",
       "      <th>Revenue</th>\n",
       "    </tr>\n",
       "  </thead>\n",
       "  <tbody>\n",
       "    <tr>\n",
       "      <th>count</th>\n",
       "      <td>33.000000</td>\n",
       "      <td>33.000000</td>\n",
       "      <td>33.000000</td>\n",
       "      <td>33.000000</td>\n",
       "      <td>33.000000</td>\n",
       "      <td>33.000000</td>\n",
       "      <td>33.000000</td>\n",
       "      <td>33.000000</td>\n",
       "      <td>33.000000</td>\n",
       "      <td>33.000000</td>\n",
       "      <td>33.000000</td>\n",
       "      <td>33.000000</td>\n",
       "    </tr>\n",
       "    <tr>\n",
       "      <th>mean</th>\n",
       "      <td>5723.272727</td>\n",
       "      <td>8783.636364</td>\n",
       "      <td>1.418234</td>\n",
       "      <td>364.393939</td>\n",
       "      <td>288.000000</td>\n",
       "      <td>159.303030</td>\n",
       "      <td>4.814551</td>\n",
       "      <td>5.143724</td>\n",
       "      <td>366.321515</td>\n",
       "      <td>7.640606</td>\n",
       "      <td>3.176343</td>\n",
       "      <td>366.321515</td>\n",
       "    </tr>\n",
       "    <tr>\n",
       "      <th>std</th>\n",
       "      <td>7671.821261</td>\n",
       "      <td>11327.981290</td>\n",
       "      <td>0.471318</td>\n",
       "      <td>556.340326</td>\n",
       "      <td>432.381125</td>\n",
       "      <td>257.960933</td>\n",
       "      <td>2.901685</td>\n",
       "      <td>2.481833</td>\n",
       "      <td>298.627967</td>\n",
       "      <td>7.813851</td>\n",
       "      <td>2.841653</td>\n",
       "      <td>298.627886</td>\n",
       "    </tr>\n",
       "    <tr>\n",
       "      <th>min</th>\n",
       "      <td>91.000000</td>\n",
       "      <td>103.000000</td>\n",
       "      <td>1.042614</td>\n",
       "      <td>9.000000</td>\n",
       "      <td>8.000000</td>\n",
       "      <td>3.000000</td>\n",
       "      <td>1.668892</td>\n",
       "      <td>2.026599</td>\n",
       "      <td>47.260000</td>\n",
       "      <td>0.690000</td>\n",
       "      <td>0.290938</td>\n",
       "      <td>47.262639</td>\n",
       "    </tr>\n",
       "    <tr>\n",
       "      <th>25%</th>\n",
       "      <td>889.000000</td>\n",
       "      <td>1874.000000</td>\n",
       "      <td>1.131868</td>\n",
       "      <td>49.000000</td>\n",
       "      <td>44.000000</td>\n",
       "      <td>27.000000</td>\n",
       "      <td>2.592593</td>\n",
       "      <td>3.605150</td>\n",
       "      <td>117.900000</td>\n",
       "      <td>1.640000</td>\n",
       "      <td>0.683483</td>\n",
       "      <td>117.897538</td>\n",
       "    </tr>\n",
       "    <tr>\n",
       "      <th>50%</th>\n",
       "      <td>2557.000000</td>\n",
       "      <td>3146.000000</td>\n",
       "      <td>1.174759</td>\n",
       "      <td>135.000000</td>\n",
       "      <td>111.000000</td>\n",
       "      <td>63.000000</td>\n",
       "      <td>3.982684</td>\n",
       "      <td>4.416037</td>\n",
       "      <td>283.170000</td>\n",
       "      <td>5.430000</td>\n",
       "      <td>1.760117</td>\n",
       "      <td>283.169394</td>\n",
       "    </tr>\n",
       "    <tr>\n",
       "      <th>75%</th>\n",
       "      <td>6145.000000</td>\n",
       "      <td>12372.000000</td>\n",
       "      <td>1.665733</td>\n",
       "      <td>325.000000</td>\n",
       "      <td>246.000000</td>\n",
       "      <td>129.000000</td>\n",
       "      <td>6.621384</td>\n",
       "      <td>6.534091</td>\n",
       "      <td>487.520000</td>\n",
       "      <td>11.110000</td>\n",
       "      <td>5.486358</td>\n",
       "      <td>487.520000</td>\n",
       "    </tr>\n",
       "    <tr>\n",
       "      <th>max</th>\n",
       "      <td>30110.000000</td>\n",
       "      <td>39161.000000</td>\n",
       "      <td>3.169081</td>\n",
       "      <td>2593.000000</td>\n",
       "      <td>1994.000000</td>\n",
       "      <td>1095.000000</td>\n",
       "      <td>12.951807</td>\n",
       "      <td>12.131148</td>\n",
       "      <td>1193.940000</td>\n",
       "      <td>30.550000</td>\n",
       "      <td>10.184692</td>\n",
       "      <td>1193.941742</td>\n",
       "    </tr>\n",
       "  </tbody>\n",
       "</table>\n",
       "</div>"
      ],
      "text/plain": [
       "              Reach   Impressions  Frequency       Clicks  Unique Clicks  \\\n",
       "count     33.000000     33.000000  33.000000    33.000000      33.000000   \n",
       "mean    5723.272727   8783.636364   1.418234   364.393939     288.000000   \n",
       "std     7671.821261  11327.981290   0.471318   556.340326     432.381125   \n",
       "min       91.000000    103.000000   1.042614     9.000000       8.000000   \n",
       "25%      889.000000   1874.000000   1.131868    49.000000      44.000000   \n",
       "50%     2557.000000   3146.000000   1.174759   135.000000     111.000000   \n",
       "75%     6145.000000  12372.000000   1.665733   325.000000     246.000000   \n",
       "max    30110.000000  39161.000000   3.169081  2593.000000    1994.000000   \n",
       "\n",
       "       Unique Link Clicks (ULC)  Click-Through Rate (CTR)  \\\n",
       "count                 33.000000                 33.000000   \n",
       "mean                 159.303030                  4.814551   \n",
       "std                  257.960933                  2.901685   \n",
       "min                    3.000000                  1.668892   \n",
       "25%                   27.000000                  2.592593   \n",
       "50%                   63.000000                  3.982684   \n",
       "75%                  129.000000                  6.621384   \n",
       "max                 1095.000000                 12.951807   \n",
       "\n",
       "       Unique Click-Through Rate (Unique CTR)  Amount Spent in INR  \\\n",
       "count                               33.000000            33.000000   \n",
       "mean                                 5.143724           366.321515   \n",
       "std                                  2.481833           298.627967   \n",
       "min                                  2.026599            47.260000   \n",
       "25%                                  3.605150           117.900000   \n",
       "50%                                  4.416037           283.170000   \n",
       "75%                                  6.534091           487.520000   \n",
       "max                                 12.131148          1193.940000   \n",
       "\n",
       "       Cost per Result (CPR)  Cost Per Click (CPC)      Revenue  \n",
       "count              33.000000             33.000000    33.000000  \n",
       "mean                7.640606              3.176343   366.321515  \n",
       "std                 7.813851              2.841653   298.627886  \n",
       "min                 0.690000              0.290938    47.262639  \n",
       "25%                 1.640000              0.683483   117.897538  \n",
       "50%                 5.430000              1.760117   283.169394  \n",
       "75%                11.110000              5.486358   487.520000  \n",
       "max                30.550000             10.184692  1193.941742  "
      ]
     },
     "execution_count": 13,
     "metadata": {},
     "output_type": "execute_result"
    }
   ],
   "source": [
    "data.describe()"
   ]
  },
  {
   "cell_type": "code",
   "execution_count": 14,
   "metadata": {},
   "outputs": [],
   "source": [
    "data_except_group = data.query('Geography != \"Group 1 (Australia, Canada, United Kingdom, Ghana, Nigeria, Pakistan, United States)\" and Geography != \"Group 2 (Australia, Canada, United Kingdom, Ghana, Niger, Nigeria, Nepal, Pakistan, Thailand, Taiwan)\"')#['Geography'].value_counts()"
   ]
  },
  {
   "cell_type": "code",
   "execution_count": 15,
   "metadata": {},
   "outputs": [
    {
     "data": {
      "text/html": [
       "<div>\n",
       "<style scoped>\n",
       "    .dataframe tbody tr th:only-of-type {\n",
       "        vertical-align: middle;\n",
       "    }\n",
       "\n",
       "    .dataframe tbody tr th {\n",
       "        vertical-align: top;\n",
       "    }\n",
       "\n",
       "    .dataframe thead th {\n",
       "        text-align: right;\n",
       "    }\n",
       "</style>\n",
       "<table border=\"1\" class=\"dataframe\">\n",
       "  <thead>\n",
       "    <tr style=\"text-align: right;\">\n",
       "      <th></th>\n",
       "      <th>Campaign ID</th>\n",
       "      <th>Campaign Name</th>\n",
       "      <th>Audience</th>\n",
       "      <th>Age</th>\n",
       "      <th>Geography</th>\n",
       "      <th>Reach</th>\n",
       "      <th>Impressions</th>\n",
       "      <th>Frequency</th>\n",
       "      <th>Clicks</th>\n",
       "      <th>Unique Clicks</th>\n",
       "      <th>Unique Link Clicks (ULC)</th>\n",
       "      <th>Click-Through Rate (CTR)</th>\n",
       "      <th>Unique Click-Through Rate (Unique CTR)</th>\n",
       "      <th>Amount Spent in INR</th>\n",
       "      <th>Cost per Result (CPR)</th>\n",
       "      <th>Cost Per Click (CPC)</th>\n",
       "      <th>Revenue</th>\n",
       "    </tr>\n",
       "  </thead>\n",
       "  <tbody>\n",
       "    <tr>\n",
       "      <th>4</th>\n",
       "      <td>Campaign 10</td>\n",
       "      <td>SHU_Students(UK)</td>\n",
       "      <td>Students</td>\n",
       "      <td>13-17</td>\n",
       "      <td>UK</td>\n",
       "      <td>2557</td>\n",
       "      <td>2941</td>\n",
       "      <td>1.150176</td>\n",
       "      <td>69</td>\n",
       "      <td>60</td>\n",
       "      <td>33</td>\n",
       "      <td>2.346141</td>\n",
       "      <td>2.346500</td>\n",
       "      <td>487.52</td>\n",
       "      <td>14.77</td>\n",
       "      <td>7.065507</td>\n",
       "      <td>487.520000</td>\n",
       "    </tr>\n",
       "    <tr>\n",
       "      <th>5</th>\n",
       "      <td>Campaign 10</td>\n",
       "      <td>SHU_Students(UK)</td>\n",
       "      <td>Students</td>\n",
       "      <td>25-34</td>\n",
       "      <td>UK</td>\n",
       "      <td>338</td>\n",
       "      <td>365</td>\n",
       "      <td>1.079882</td>\n",
       "      <td>13</td>\n",
       "      <td>11</td>\n",
       "      <td>4</td>\n",
       "      <td>3.561644</td>\n",
       "      <td>3.254438</td>\n",
       "      <td>113.58</td>\n",
       "      <td>28.40</td>\n",
       "      <td>8.736923</td>\n",
       "      <td>113.580000</td>\n",
       "    </tr>\n",
       "    <tr>\n",
       "      <th>6</th>\n",
       "      <td>Campaign 10</td>\n",
       "      <td>SHU_Students(UK)</td>\n",
       "      <td>Students</td>\n",
       "      <td>18-24</td>\n",
       "      <td>UK</td>\n",
       "      <td>741</td>\n",
       "      <td>785</td>\n",
       "      <td>1.059379</td>\n",
       "      <td>39</td>\n",
       "      <td>34</td>\n",
       "      <td>20</td>\n",
       "      <td>4.968153</td>\n",
       "      <td>4.588394</td>\n",
       "      <td>255.57</td>\n",
       "      <td>12.78</td>\n",
       "      <td>6.553077</td>\n",
       "      <td>255.570000</td>\n",
       "    </tr>\n",
       "    <tr>\n",
       "      <th>7</th>\n",
       "      <td>Campaign 11</td>\n",
       "      <td>SHU_Students (USA)</td>\n",
       "      <td>Students</td>\n",
       "      <td>25-34</td>\n",
       "      <td>USA</td>\n",
       "      <td>91</td>\n",
       "      <td>103</td>\n",
       "      <td>1.131868</td>\n",
       "      <td>9</td>\n",
       "      <td>8</td>\n",
       "      <td>3</td>\n",
       "      <td>8.737864</td>\n",
       "      <td>8.791209</td>\n",
       "      <td>47.26</td>\n",
       "      <td>15.75</td>\n",
       "      <td>5.251404</td>\n",
       "      <td>47.262639</td>\n",
       "    </tr>\n",
       "    <tr>\n",
       "      <th>8</th>\n",
       "      <td>Campaign 11</td>\n",
       "      <td>SHU_Students (USA)</td>\n",
       "      <td>Students</td>\n",
       "      <td>13-17</td>\n",
       "      <td>USA</td>\n",
       "      <td>2159</td>\n",
       "      <td>2465</td>\n",
       "      <td>1.141732</td>\n",
       "      <td>126</td>\n",
       "      <td>111</td>\n",
       "      <td>95</td>\n",
       "      <td>5.111562</td>\n",
       "      <td>5.141269</td>\n",
       "      <td>691.28</td>\n",
       "      <td>7.28</td>\n",
       "      <td>5.486358</td>\n",
       "      <td>691.281132</td>\n",
       "    </tr>\n",
       "    <tr>\n",
       "      <th>9</th>\n",
       "      <td>Campaign 11</td>\n",
       "      <td>SHU_Students (USA)</td>\n",
       "      <td>Students</td>\n",
       "      <td>18-24</td>\n",
       "      <td>USA</td>\n",
       "      <td>305</td>\n",
       "      <td>332</td>\n",
       "      <td>1.088525</td>\n",
       "      <td>43</td>\n",
       "      <td>37</td>\n",
       "      <td>28</td>\n",
       "      <td>12.951807</td>\n",
       "      <td>12.131148</td>\n",
       "      <td>159.14</td>\n",
       "      <td>5.68</td>\n",
       "      <td>3.700843</td>\n",
       "      <td>159.136228</td>\n",
       "    </tr>\n",
       "    <tr>\n",
       "      <th>13</th>\n",
       "      <td>Campaign 3</td>\n",
       "      <td>SHU_Students(Australia)</td>\n",
       "      <td>Students</td>\n",
       "      <td>13-17</td>\n",
       "      <td>Australia</td>\n",
       "      <td>2271</td>\n",
       "      <td>2616</td>\n",
       "      <td>1.151915</td>\n",
       "      <td>61</td>\n",
       "      <td>55</td>\n",
       "      <td>28</td>\n",
       "      <td>2.331804</td>\n",
       "      <td>2.421841</td>\n",
       "      <td>475.85</td>\n",
       "      <td>16.99</td>\n",
       "      <td>7.800793</td>\n",
       "      <td>475.848374</td>\n",
       "    </tr>\n",
       "    <tr>\n",
       "      <th>14</th>\n",
       "      <td>Campaign 3</td>\n",
       "      <td>SHU_Students(Australia)</td>\n",
       "      <td>Students</td>\n",
       "      <td>25-34</td>\n",
       "      <td>Australia</td>\n",
       "      <td>212</td>\n",
       "      <td>222</td>\n",
       "      <td>1.047170</td>\n",
       "      <td>9</td>\n",
       "      <td>8</td>\n",
       "      <td>3</td>\n",
       "      <td>4.054054</td>\n",
       "      <td>3.773585</td>\n",
       "      <td>91.66</td>\n",
       "      <td>30.55</td>\n",
       "      <td>10.184692</td>\n",
       "      <td>91.662232</td>\n",
       "    </tr>\n",
       "    <tr>\n",
       "      <th>15</th>\n",
       "      <td>Campaign 3</td>\n",
       "      <td>SHU_Students(Australia)</td>\n",
       "      <td>Students</td>\n",
       "      <td>18-24</td>\n",
       "      <td>Australia</td>\n",
       "      <td>704</td>\n",
       "      <td>734</td>\n",
       "      <td>1.042614</td>\n",
       "      <td>49</td>\n",
       "      <td>46</td>\n",
       "      <td>13</td>\n",
       "      <td>6.675749</td>\n",
       "      <td>6.534091</td>\n",
       "      <td>283.17</td>\n",
       "      <td>21.78</td>\n",
       "      <td>5.778967</td>\n",
       "      <td>283.169394</td>\n",
       "    </tr>\n",
       "    <tr>\n",
       "      <th>16</th>\n",
       "      <td>Campaign 4</td>\n",
       "      <td>SHU_Students (Canada)</td>\n",
       "      <td>Students</td>\n",
       "      <td>13-17</td>\n",
       "      <td>Canada</td>\n",
       "      <td>2330</td>\n",
       "      <td>3146</td>\n",
       "      <td>1.350215</td>\n",
       "      <td>101</td>\n",
       "      <td>84</td>\n",
       "      <td>63</td>\n",
       "      <td>3.210426</td>\n",
       "      <td>3.605150</td>\n",
       "      <td>528.08</td>\n",
       "      <td>8.38</td>\n",
       "      <td>5.228488</td>\n",
       "      <td>528.077275</td>\n",
       "    </tr>\n",
       "    <tr>\n",
       "      <th>17</th>\n",
       "      <td>Campaign 4</td>\n",
       "      <td>SHU_Students (Canada)</td>\n",
       "      <td>Students</td>\n",
       "      <td>18-24</td>\n",
       "      <td>Canada</td>\n",
       "      <td>759</td>\n",
       "      <td>878</td>\n",
       "      <td>1.156785</td>\n",
       "      <td>52</td>\n",
       "      <td>44</td>\n",
       "      <td>34</td>\n",
       "      <td>5.922551</td>\n",
       "      <td>5.797101</td>\n",
       "      <td>294.82</td>\n",
       "      <td>8.67</td>\n",
       "      <td>5.669602</td>\n",
       "      <td>294.819281</td>\n",
       "    </tr>\n",
       "    <tr>\n",
       "      <th>18</th>\n",
       "      <td>Campaign 4</td>\n",
       "      <td>SHU_Students (Canada)</td>\n",
       "      <td>Students</td>\n",
       "      <td>25-34</td>\n",
       "      <td>Canada</td>\n",
       "      <td>218</td>\n",
       "      <td>243</td>\n",
       "      <td>1.114679</td>\n",
       "      <td>18</td>\n",
       "      <td>18</td>\n",
       "      <td>15</td>\n",
       "      <td>7.407407</td>\n",
       "      <td>8.256881</td>\n",
       "      <td>101.06</td>\n",
       "      <td>6.74</td>\n",
       "      <td>5.614636</td>\n",
       "      <td>101.063445</td>\n",
       "    </tr>\n",
       "    <tr>\n",
       "      <th>19</th>\n",
       "      <td>Campaign 5</td>\n",
       "      <td>SHU_Students(Ghana)</td>\n",
       "      <td>Students</td>\n",
       "      <td>13-17</td>\n",
       "      <td>Ghana</td>\n",
       "      <td>5355</td>\n",
       "      <td>8920</td>\n",
       "      <td>1.665733</td>\n",
       "      <td>180</td>\n",
       "      <td>154</td>\n",
       "      <td>93</td>\n",
       "      <td>2.017937</td>\n",
       "      <td>2.875817</td>\n",
       "      <td>177.46</td>\n",
       "      <td>1.91</td>\n",
       "      <td>0.985889</td>\n",
       "      <td>177.460049</td>\n",
       "    </tr>\n",
       "    <tr>\n",
       "      <th>20</th>\n",
       "      <td>Campaign 5</td>\n",
       "      <td>SHU_Students(Ghana)</td>\n",
       "      <td>Students</td>\n",
       "      <td>25-34</td>\n",
       "      <td>Ghana</td>\n",
       "      <td>3717</td>\n",
       "      <td>4620</td>\n",
       "      <td>1.242938</td>\n",
       "      <td>184</td>\n",
       "      <td>160</td>\n",
       "      <td>46</td>\n",
       "      <td>3.982684</td>\n",
       "      <td>4.304547</td>\n",
       "      <td>282.22</td>\n",
       "      <td>6.14</td>\n",
       "      <td>1.533784</td>\n",
       "      <td>282.216333</td>\n",
       "    </tr>\n",
       "    <tr>\n",
       "      <th>21</th>\n",
       "      <td>Campaign 5</td>\n",
       "      <td>SHU_Students(Ghana)</td>\n",
       "      <td>Students</td>\n",
       "      <td>18-24</td>\n",
       "      <td>Ghana</td>\n",
       "      <td>5952</td>\n",
       "      <td>6943</td>\n",
       "      <td>1.166499</td>\n",
       "      <td>284</td>\n",
       "      <td>238</td>\n",
       "      <td>98</td>\n",
       "      <td>4.090451</td>\n",
       "      <td>3.998656</td>\n",
       "      <td>378.10</td>\n",
       "      <td>3.86</td>\n",
       "      <td>1.331351</td>\n",
       "      <td>378.103619</td>\n",
       "    </tr>\n",
       "    <tr>\n",
       "      <th>22</th>\n",
       "      <td>Campaign 6</td>\n",
       "      <td>SHU_Students (India)</td>\n",
       "      <td>Students</td>\n",
       "      <td>18-24</td>\n",
       "      <td>India</td>\n",
       "      <td>30110</td>\n",
       "      <td>35372</td>\n",
       "      <td>1.174759</td>\n",
       "      <td>1308</td>\n",
       "      <td>1162</td>\n",
       "      <td>934</td>\n",
       "      <td>3.697840</td>\n",
       "      <td>3.859183</td>\n",
       "      <td>894.00</td>\n",
       "      <td>0.96</td>\n",
       "      <td>0.683483</td>\n",
       "      <td>893.995136</td>\n",
       "    </tr>\n",
       "    <tr>\n",
       "      <th>23</th>\n",
       "      <td>Campaign 6</td>\n",
       "      <td>SHU_Students (India)</td>\n",
       "      <td>Students</td>\n",
       "      <td>25-34</td>\n",
       "      <td>India</td>\n",
       "      <td>1721</td>\n",
       "      <td>1874</td>\n",
       "      <td>1.088902</td>\n",
       "      <td>92</td>\n",
       "      <td>76</td>\n",
       "      <td>53</td>\n",
       "      <td>4.909285</td>\n",
       "      <td>4.416037</td>\n",
       "      <td>61.21</td>\n",
       "      <td>1.15</td>\n",
       "      <td>0.665379</td>\n",
       "      <td>61.214860</td>\n",
       "    </tr>\n",
       "    <tr>\n",
       "      <th>24</th>\n",
       "      <td>Campaign 7</td>\n",
       "      <td>SHU_Students(Nepal)</td>\n",
       "      <td>Students</td>\n",
       "      <td>13-17</td>\n",
       "      <td>Nepal</td>\n",
       "      <td>6145</td>\n",
       "      <td>19474</td>\n",
       "      <td>3.169081</td>\n",
       "      <td>325</td>\n",
       "      <td>246</td>\n",
       "      <td>129</td>\n",
       "      <td>1.668892</td>\n",
       "      <td>4.003255</td>\n",
       "      <td>211.76</td>\n",
       "      <td>1.64</td>\n",
       "      <td>0.651560</td>\n",
       "      <td>211.757049</td>\n",
       "    </tr>\n",
       "    <tr>\n",
       "      <th>25</th>\n",
       "      <td>Campaign 7</td>\n",
       "      <td>SHU_Students(Nepal)</td>\n",
       "      <td>Students</td>\n",
       "      <td>18-24</td>\n",
       "      <td>Nepal</td>\n",
       "      <td>18900</td>\n",
       "      <td>36659</td>\n",
       "      <td>1.939630</td>\n",
       "      <td>849</td>\n",
       "      <td>688</td>\n",
       "      <td>306</td>\n",
       "      <td>2.315939</td>\n",
       "      <td>3.640212</td>\n",
       "      <td>634.64</td>\n",
       "      <td>2.07</td>\n",
       "      <td>0.747515</td>\n",
       "      <td>634.640473</td>\n",
       "    </tr>\n",
       "    <tr>\n",
       "      <th>26</th>\n",
       "      <td>Campaign 7</td>\n",
       "      <td>SHU_Students(Nepal)</td>\n",
       "      <td>Students</td>\n",
       "      <td>25-34</td>\n",
       "      <td>Nepal</td>\n",
       "      <td>4623</td>\n",
       "      <td>9082</td>\n",
       "      <td>1.964525</td>\n",
       "      <td>246</td>\n",
       "      <td>212</td>\n",
       "      <td>83</td>\n",
       "      <td>2.708654</td>\n",
       "      <td>4.585767</td>\n",
       "      <td>188.84</td>\n",
       "      <td>2.28</td>\n",
       "      <td>0.767652</td>\n",
       "      <td>188.842481</td>\n",
       "    </tr>\n",
       "    <tr>\n",
       "      <th>27</th>\n",
       "      <td>Campaign 8</td>\n",
       "      <td>SHU_Students (Nigeria)</td>\n",
       "      <td>Students</td>\n",
       "      <td>13-17</td>\n",
       "      <td>Nigeria</td>\n",
       "      <td>8516</td>\n",
       "      <td>12372</td>\n",
       "      <td>1.452795</td>\n",
       "      <td>970</td>\n",
       "      <td>696</td>\n",
       "      <td>408</td>\n",
       "      <td>7.840285</td>\n",
       "      <td>8.172851</td>\n",
       "      <td>282.21</td>\n",
       "      <td>0.69</td>\n",
       "      <td>0.290938</td>\n",
       "      <td>282.209540</td>\n",
       "    </tr>\n",
       "    <tr>\n",
       "      <th>28</th>\n",
       "      <td>Campaign 8</td>\n",
       "      <td>SHU_Students (Nigeria)</td>\n",
       "      <td>Students</td>\n",
       "      <td>18-24</td>\n",
       "      <td>Nigeria</td>\n",
       "      <td>11027</td>\n",
       "      <td>13820</td>\n",
       "      <td>1.253287</td>\n",
       "      <td>1491</td>\n",
       "      <td>1132</td>\n",
       "      <td>548</td>\n",
       "      <td>10.788712</td>\n",
       "      <td>10.265711</td>\n",
       "      <td>542.67</td>\n",
       "      <td>0.99</td>\n",
       "      <td>0.363966</td>\n",
       "      <td>542.672933</td>\n",
       "    </tr>\n",
       "    <tr>\n",
       "      <th>29</th>\n",
       "      <td>Campaign 8</td>\n",
       "      <td>SHU_Students (Nigeria)</td>\n",
       "      <td>Students</td>\n",
       "      <td>25-34</td>\n",
       "      <td>Nigeria</td>\n",
       "      <td>2386</td>\n",
       "      <td>2782</td>\n",
       "      <td>1.165968</td>\n",
       "      <td>304</td>\n",
       "      <td>230</td>\n",
       "      <td>117</td>\n",
       "      <td>10.927390</td>\n",
       "      <td>9.639564</td>\n",
       "      <td>117.90</td>\n",
       "      <td>1.01</td>\n",
       "      <td>0.387821</td>\n",
       "      <td>117.897538</td>\n",
       "    </tr>\n",
       "    <tr>\n",
       "      <th>30</th>\n",
       "      <td>Campaign 9</td>\n",
       "      <td>SHU_Students(UAE)</td>\n",
       "      <td>Students</td>\n",
       "      <td>13-17</td>\n",
       "      <td>UAE</td>\n",
       "      <td>1579</td>\n",
       "      <td>2079</td>\n",
       "      <td>1.316656</td>\n",
       "      <td>35</td>\n",
       "      <td>32</td>\n",
       "      <td>20</td>\n",
       "      <td>1.683502</td>\n",
       "      <td>2.026599</td>\n",
       "      <td>104.63</td>\n",
       "      <td>5.23</td>\n",
       "      <td>2.989420</td>\n",
       "      <td>104.629702</td>\n",
       "    </tr>\n",
       "    <tr>\n",
       "      <th>31</th>\n",
       "      <td>Campaign 9</td>\n",
       "      <td>SHU_Students(UAE)</td>\n",
       "      <td>Students</td>\n",
       "      <td>18-24</td>\n",
       "      <td>UAE</td>\n",
       "      <td>2862</td>\n",
       "      <td>3234</td>\n",
       "      <td>1.129979</td>\n",
       "      <td>72</td>\n",
       "      <td>60</td>\n",
       "      <td>27</td>\n",
       "      <td>2.226345</td>\n",
       "      <td>2.096436</td>\n",
       "      <td>316.14</td>\n",
       "      <td>11.71</td>\n",
       "      <td>4.390839</td>\n",
       "      <td>316.140392</td>\n",
       "    </tr>\n",
       "    <tr>\n",
       "      <th>32</th>\n",
       "      <td>Campaign 9</td>\n",
       "      <td>SHU_Students(UAE)</td>\n",
       "      <td>Students</td>\n",
       "      <td>25-34</td>\n",
       "      <td>UAE</td>\n",
       "      <td>2892</td>\n",
       "      <td>3347</td>\n",
       "      <td>1.157331</td>\n",
       "      <td>135</td>\n",
       "      <td>102</td>\n",
       "      <td>41</td>\n",
       "      <td>4.033463</td>\n",
       "      <td>3.526971</td>\n",
       "      <td>455.49</td>\n",
       "      <td>11.11</td>\n",
       "      <td>3.373999</td>\n",
       "      <td>455.489906</td>\n",
       "    </tr>\n",
       "  </tbody>\n",
       "</table>\n",
       "</div>"
      ],
      "text/plain": [
       "    Campaign ID            Campaign Name  Audience    Age  Geography  Reach  \\\n",
       "4   Campaign 10         SHU_Students(UK)  Students  13-17         UK   2557   \n",
       "5   Campaign 10         SHU_Students(UK)  Students  25-34         UK    338   \n",
       "6   Campaign 10         SHU_Students(UK)  Students  18-24         UK    741   \n",
       "7   Campaign 11       SHU_Students (USA)  Students  25-34        USA     91   \n",
       "8   Campaign 11       SHU_Students (USA)  Students  13-17        USA   2159   \n",
       "9   Campaign 11       SHU_Students (USA)  Students  18-24        USA    305   \n",
       "13   Campaign 3  SHU_Students(Australia)  Students  13-17  Australia   2271   \n",
       "14   Campaign 3  SHU_Students(Australia)  Students  25-34  Australia    212   \n",
       "15   Campaign 3  SHU_Students(Australia)  Students  18-24  Australia    704   \n",
       "16   Campaign 4    SHU_Students (Canada)  Students  13-17     Canada   2330   \n",
       "17   Campaign 4    SHU_Students (Canada)  Students  18-24     Canada    759   \n",
       "18   Campaign 4    SHU_Students (Canada)  Students  25-34     Canada    218   \n",
       "19   Campaign 5      SHU_Students(Ghana)  Students  13-17      Ghana   5355   \n",
       "20   Campaign 5      SHU_Students(Ghana)  Students  25-34      Ghana   3717   \n",
       "21   Campaign 5      SHU_Students(Ghana)  Students  18-24      Ghana   5952   \n",
       "22   Campaign 6     SHU_Students (India)  Students  18-24      India  30110   \n",
       "23   Campaign 6     SHU_Students (India)  Students  25-34      India   1721   \n",
       "24   Campaign 7      SHU_Students(Nepal)  Students  13-17      Nepal   6145   \n",
       "25   Campaign 7      SHU_Students(Nepal)  Students  18-24      Nepal  18900   \n",
       "26   Campaign 7      SHU_Students(Nepal)  Students  25-34      Nepal   4623   \n",
       "27   Campaign 8   SHU_Students (Nigeria)  Students  13-17    Nigeria   8516   \n",
       "28   Campaign 8   SHU_Students (Nigeria)  Students  18-24    Nigeria  11027   \n",
       "29   Campaign 8   SHU_Students (Nigeria)  Students  25-34    Nigeria   2386   \n",
       "30   Campaign 9        SHU_Students(UAE)  Students  13-17        UAE   1579   \n",
       "31   Campaign 9        SHU_Students(UAE)  Students  18-24        UAE   2862   \n",
       "32   Campaign 9        SHU_Students(UAE)  Students  25-34        UAE   2892   \n",
       "\n",
       "    Impressions  Frequency  Clicks  Unique Clicks  Unique Link Clicks (ULC)  \\\n",
       "4          2941   1.150176      69             60                        33   \n",
       "5           365   1.079882      13             11                         4   \n",
       "6           785   1.059379      39             34                        20   \n",
       "7           103   1.131868       9              8                         3   \n",
       "8          2465   1.141732     126            111                        95   \n",
       "9           332   1.088525      43             37                        28   \n",
       "13         2616   1.151915      61             55                        28   \n",
       "14          222   1.047170       9              8                         3   \n",
       "15          734   1.042614      49             46                        13   \n",
       "16         3146   1.350215     101             84                        63   \n",
       "17          878   1.156785      52             44                        34   \n",
       "18          243   1.114679      18             18                        15   \n",
       "19         8920   1.665733     180            154                        93   \n",
       "20         4620   1.242938     184            160                        46   \n",
       "21         6943   1.166499     284            238                        98   \n",
       "22        35372   1.174759    1308           1162                       934   \n",
       "23         1874   1.088902      92             76                        53   \n",
       "24        19474   3.169081     325            246                       129   \n",
       "25        36659   1.939630     849            688                       306   \n",
       "26         9082   1.964525     246            212                        83   \n",
       "27        12372   1.452795     970            696                       408   \n",
       "28        13820   1.253287    1491           1132                       548   \n",
       "29         2782   1.165968     304            230                       117   \n",
       "30         2079   1.316656      35             32                        20   \n",
       "31         3234   1.129979      72             60                        27   \n",
       "32         3347   1.157331     135            102                        41   \n",
       "\n",
       "    Click-Through Rate (CTR)  Unique Click-Through Rate (Unique CTR)  \\\n",
       "4                   2.346141                                2.346500   \n",
       "5                   3.561644                                3.254438   \n",
       "6                   4.968153                                4.588394   \n",
       "7                   8.737864                                8.791209   \n",
       "8                   5.111562                                5.141269   \n",
       "9                  12.951807                               12.131148   \n",
       "13                  2.331804                                2.421841   \n",
       "14                  4.054054                                3.773585   \n",
       "15                  6.675749                                6.534091   \n",
       "16                  3.210426                                3.605150   \n",
       "17                  5.922551                                5.797101   \n",
       "18                  7.407407                                8.256881   \n",
       "19                  2.017937                                2.875817   \n",
       "20                  3.982684                                4.304547   \n",
       "21                  4.090451                                3.998656   \n",
       "22                  3.697840                                3.859183   \n",
       "23                  4.909285                                4.416037   \n",
       "24                  1.668892                                4.003255   \n",
       "25                  2.315939                                3.640212   \n",
       "26                  2.708654                                4.585767   \n",
       "27                  7.840285                                8.172851   \n",
       "28                 10.788712                               10.265711   \n",
       "29                 10.927390                                9.639564   \n",
       "30                  1.683502                                2.026599   \n",
       "31                  2.226345                                2.096436   \n",
       "32                  4.033463                                3.526971   \n",
       "\n",
       "    Amount Spent in INR  Cost per Result (CPR)  Cost Per Click (CPC)  \\\n",
       "4                487.52                  14.77              7.065507   \n",
       "5                113.58                  28.40              8.736923   \n",
       "6                255.57                  12.78              6.553077   \n",
       "7                 47.26                  15.75              5.251404   \n",
       "8                691.28                   7.28              5.486358   \n",
       "9                159.14                   5.68              3.700843   \n",
       "13               475.85                  16.99              7.800793   \n",
       "14                91.66                  30.55             10.184692   \n",
       "15               283.17                  21.78              5.778967   \n",
       "16               528.08                   8.38              5.228488   \n",
       "17               294.82                   8.67              5.669602   \n",
       "18               101.06                   6.74              5.614636   \n",
       "19               177.46                   1.91              0.985889   \n",
       "20               282.22                   6.14              1.533784   \n",
       "21               378.10                   3.86              1.331351   \n",
       "22               894.00                   0.96              0.683483   \n",
       "23                61.21                   1.15              0.665379   \n",
       "24               211.76                   1.64              0.651560   \n",
       "25               634.64                   2.07              0.747515   \n",
       "26               188.84                   2.28              0.767652   \n",
       "27               282.21                   0.69              0.290938   \n",
       "28               542.67                   0.99              0.363966   \n",
       "29               117.90                   1.01              0.387821   \n",
       "30               104.63                   5.23              2.989420   \n",
       "31               316.14                  11.71              4.390839   \n",
       "32               455.49                  11.11              3.373999   \n",
       "\n",
       "       Revenue  \n",
       "4   487.520000  \n",
       "5   113.580000  \n",
       "6   255.570000  \n",
       "7    47.262639  \n",
       "8   691.281132  \n",
       "9   159.136228  \n",
       "13  475.848374  \n",
       "14   91.662232  \n",
       "15  283.169394  \n",
       "16  528.077275  \n",
       "17  294.819281  \n",
       "18  101.063445  \n",
       "19  177.460049  \n",
       "20  282.216333  \n",
       "21  378.103619  \n",
       "22  893.995136  \n",
       "23   61.214860  \n",
       "24  211.757049  \n",
       "25  634.640473  \n",
       "26  188.842481  \n",
       "27  282.209540  \n",
       "28  542.672933  \n",
       "29  117.897538  \n",
       "30  104.629702  \n",
       "31  316.140392  \n",
       "32  455.489906  "
      ]
     },
     "execution_count": 15,
     "metadata": {},
     "output_type": "execute_result"
    }
   ],
   "source": [
    "data_except_group"
   ]
  },
  {
   "cell_type": "code",
   "execution_count": 16,
   "metadata": {},
   "outputs": [],
   "source": [
    "# px.choropleth."
   ]
  },
  {
   "cell_type": "code",
   "execution_count": 17,
   "metadata": {},
   "outputs": [
    {
     "data": {
      "application/vnd.plotly.v1+json": {
       "config": {
        "plotlyServerURL": "https://plot.ly"
       },
       "data": [
        {
         "coloraxis": "coloraxis",
         "geo": "geo",
         "hovertemplate": "<b>%{hovertext}</b><br><br>Geography=%{location}<br>Impressions=%{z}<extra></extra>",
         "hovertext": [
          "UK",
          "UK",
          "UK",
          "USA",
          "USA",
          "USA",
          "Australia",
          "Australia",
          "Australia",
          "Canada",
          "Canada",
          "Canada",
          "Ghana",
          "Ghana",
          "Ghana",
          "India",
          "India",
          "Nepal",
          "Nepal",
          "Nepal",
          "Nigeria",
          "Nigeria",
          "Nigeria",
          "UAE",
          "UAE",
          "UAE"
         ],
         "locationmode": "country names",
         "locations": [
          "UK",
          "UK",
          "UK",
          "USA",
          "USA",
          "USA",
          "Australia",
          "Australia",
          "Australia",
          "Canada",
          "Canada",
          "Canada",
          "Ghana",
          "Ghana",
          "Ghana",
          "India",
          "India",
          "Nepal",
          "Nepal",
          "Nepal",
          "Nigeria",
          "Nigeria",
          "Nigeria",
          "UAE",
          "UAE",
          "UAE"
         ],
         "name": "",
         "type": "choropleth",
         "z": [
          2941,
          365,
          785,
          103,
          2465,
          332,
          2616,
          222,
          734,
          3146,
          878,
          243,
          8920,
          4620,
          6943,
          35372,
          1874,
          19474,
          36659,
          9082,
          12372,
          13820,
          2782,
          2079,
          3234,
          3347
         ]
        }
       ],
       "layout": {
        "coloraxis": {
         "colorbar": {
          "title": {
           "text": "Impressions"
          }
         },
         "colorscale": [
          [
           0,
           "#0d0887"
          ],
          [
           0.1111111111111111,
           "#46039f"
          ],
          [
           0.2222222222222222,
           "#7201a8"
          ],
          [
           0.3333333333333333,
           "#9c179e"
          ],
          [
           0.4444444444444444,
           "#bd3786"
          ],
          [
           0.5555555555555556,
           "#d8576b"
          ],
          [
           0.6666666666666666,
           "#ed7953"
          ],
          [
           0.7777777777777778,
           "#fb9f3a"
          ],
          [
           0.8888888888888888,
           "#fdca26"
          ],
          [
           1,
           "#f0f921"
          ]
         ]
        },
        "geo": {
         "center": {},
         "domain": {
          "x": [
           0,
           1
          ],
          "y": [
           0,
           1
          ]
         },
         "projection": {
          "type": "orthographic"
         }
        },
        "height": 500,
        "legend": {
         "tracegroupgap": 0
        },
        "margin": {
         "b": 0,
         "l": 0,
         "r": 0,
         "t": 0
        },
        "template": {
         "data": {
          "bar": [
           {
            "error_x": {
             "color": "#2a3f5f"
            },
            "error_y": {
             "color": "#2a3f5f"
            },
            "marker": {
             "line": {
              "color": "#E5ECF6",
              "width": 0.5
             },
             "pattern": {
              "fillmode": "overlay",
              "size": 10,
              "solidity": 0.2
             }
            },
            "type": "bar"
           }
          ],
          "barpolar": [
           {
            "marker": {
             "line": {
              "color": "#E5ECF6",
              "width": 0.5
             },
             "pattern": {
              "fillmode": "overlay",
              "size": 10,
              "solidity": 0.2
             }
            },
            "type": "barpolar"
           }
          ],
          "carpet": [
           {
            "aaxis": {
             "endlinecolor": "#2a3f5f",
             "gridcolor": "white",
             "linecolor": "white",
             "minorgridcolor": "white",
             "startlinecolor": "#2a3f5f"
            },
            "baxis": {
             "endlinecolor": "#2a3f5f",
             "gridcolor": "white",
             "linecolor": "white",
             "minorgridcolor": "white",
             "startlinecolor": "#2a3f5f"
            },
            "type": "carpet"
           }
          ],
          "choropleth": [
           {
            "colorbar": {
             "outlinewidth": 0,
             "ticks": ""
            },
            "type": "choropleth"
           }
          ],
          "contour": [
           {
            "colorbar": {
             "outlinewidth": 0,
             "ticks": ""
            },
            "colorscale": [
             [
              0,
              "#0d0887"
             ],
             [
              0.1111111111111111,
              "#46039f"
             ],
             [
              0.2222222222222222,
              "#7201a8"
             ],
             [
              0.3333333333333333,
              "#9c179e"
             ],
             [
              0.4444444444444444,
              "#bd3786"
             ],
             [
              0.5555555555555556,
              "#d8576b"
             ],
             [
              0.6666666666666666,
              "#ed7953"
             ],
             [
              0.7777777777777778,
              "#fb9f3a"
             ],
             [
              0.8888888888888888,
              "#fdca26"
             ],
             [
              1,
              "#f0f921"
             ]
            ],
            "type": "contour"
           }
          ],
          "contourcarpet": [
           {
            "colorbar": {
             "outlinewidth": 0,
             "ticks": ""
            },
            "type": "contourcarpet"
           }
          ],
          "heatmap": [
           {
            "colorbar": {
             "outlinewidth": 0,
             "ticks": ""
            },
            "colorscale": [
             [
              0,
              "#0d0887"
             ],
             [
              0.1111111111111111,
              "#46039f"
             ],
             [
              0.2222222222222222,
              "#7201a8"
             ],
             [
              0.3333333333333333,
              "#9c179e"
             ],
             [
              0.4444444444444444,
              "#bd3786"
             ],
             [
              0.5555555555555556,
              "#d8576b"
             ],
             [
              0.6666666666666666,
              "#ed7953"
             ],
             [
              0.7777777777777778,
              "#fb9f3a"
             ],
             [
              0.8888888888888888,
              "#fdca26"
             ],
             [
              1,
              "#f0f921"
             ]
            ],
            "type": "heatmap"
           }
          ],
          "heatmapgl": [
           {
            "colorbar": {
             "outlinewidth": 0,
             "ticks": ""
            },
            "colorscale": [
             [
              0,
              "#0d0887"
             ],
             [
              0.1111111111111111,
              "#46039f"
             ],
             [
              0.2222222222222222,
              "#7201a8"
             ],
             [
              0.3333333333333333,
              "#9c179e"
             ],
             [
              0.4444444444444444,
              "#bd3786"
             ],
             [
              0.5555555555555556,
              "#d8576b"
             ],
             [
              0.6666666666666666,
              "#ed7953"
             ],
             [
              0.7777777777777778,
              "#fb9f3a"
             ],
             [
              0.8888888888888888,
              "#fdca26"
             ],
             [
              1,
              "#f0f921"
             ]
            ],
            "type": "heatmapgl"
           }
          ],
          "histogram": [
           {
            "marker": {
             "pattern": {
              "fillmode": "overlay",
              "size": 10,
              "solidity": 0.2
             }
            },
            "type": "histogram"
           }
          ],
          "histogram2d": [
           {
            "colorbar": {
             "outlinewidth": 0,
             "ticks": ""
            },
            "colorscale": [
             [
              0,
              "#0d0887"
             ],
             [
              0.1111111111111111,
              "#46039f"
             ],
             [
              0.2222222222222222,
              "#7201a8"
             ],
             [
              0.3333333333333333,
              "#9c179e"
             ],
             [
              0.4444444444444444,
              "#bd3786"
             ],
             [
              0.5555555555555556,
              "#d8576b"
             ],
             [
              0.6666666666666666,
              "#ed7953"
             ],
             [
              0.7777777777777778,
              "#fb9f3a"
             ],
             [
              0.8888888888888888,
              "#fdca26"
             ],
             [
              1,
              "#f0f921"
             ]
            ],
            "type": "histogram2d"
           }
          ],
          "histogram2dcontour": [
           {
            "colorbar": {
             "outlinewidth": 0,
             "ticks": ""
            },
            "colorscale": [
             [
              0,
              "#0d0887"
             ],
             [
              0.1111111111111111,
              "#46039f"
             ],
             [
              0.2222222222222222,
              "#7201a8"
             ],
             [
              0.3333333333333333,
              "#9c179e"
             ],
             [
              0.4444444444444444,
              "#bd3786"
             ],
             [
              0.5555555555555556,
              "#d8576b"
             ],
             [
              0.6666666666666666,
              "#ed7953"
             ],
             [
              0.7777777777777778,
              "#fb9f3a"
             ],
             [
              0.8888888888888888,
              "#fdca26"
             ],
             [
              1,
              "#f0f921"
             ]
            ],
            "type": "histogram2dcontour"
           }
          ],
          "mesh3d": [
           {
            "colorbar": {
             "outlinewidth": 0,
             "ticks": ""
            },
            "type": "mesh3d"
           }
          ],
          "parcoords": [
           {
            "line": {
             "colorbar": {
              "outlinewidth": 0,
              "ticks": ""
             }
            },
            "type": "parcoords"
           }
          ],
          "pie": [
           {
            "automargin": true,
            "type": "pie"
           }
          ],
          "scatter": [
           {
            "marker": {
             "colorbar": {
              "outlinewidth": 0,
              "ticks": ""
             }
            },
            "type": "scatter"
           }
          ],
          "scatter3d": [
           {
            "line": {
             "colorbar": {
              "outlinewidth": 0,
              "ticks": ""
             }
            },
            "marker": {
             "colorbar": {
              "outlinewidth": 0,
              "ticks": ""
             }
            },
            "type": "scatter3d"
           }
          ],
          "scattercarpet": [
           {
            "marker": {
             "colorbar": {
              "outlinewidth": 0,
              "ticks": ""
             }
            },
            "type": "scattercarpet"
           }
          ],
          "scattergeo": [
           {
            "marker": {
             "colorbar": {
              "outlinewidth": 0,
              "ticks": ""
             }
            },
            "type": "scattergeo"
           }
          ],
          "scattergl": [
           {
            "marker": {
             "colorbar": {
              "outlinewidth": 0,
              "ticks": ""
             }
            },
            "type": "scattergl"
           }
          ],
          "scattermapbox": [
           {
            "marker": {
             "colorbar": {
              "outlinewidth": 0,
              "ticks": ""
             }
            },
            "type": "scattermapbox"
           }
          ],
          "scatterpolar": [
           {
            "marker": {
             "colorbar": {
              "outlinewidth": 0,
              "ticks": ""
             }
            },
            "type": "scatterpolar"
           }
          ],
          "scatterpolargl": [
           {
            "marker": {
             "colorbar": {
              "outlinewidth": 0,
              "ticks": ""
             }
            },
            "type": "scatterpolargl"
           }
          ],
          "scatterternary": [
           {
            "marker": {
             "colorbar": {
              "outlinewidth": 0,
              "ticks": ""
             }
            },
            "type": "scatterternary"
           }
          ],
          "surface": [
           {
            "colorbar": {
             "outlinewidth": 0,
             "ticks": ""
            },
            "colorscale": [
             [
              0,
              "#0d0887"
             ],
             [
              0.1111111111111111,
              "#46039f"
             ],
             [
              0.2222222222222222,
              "#7201a8"
             ],
             [
              0.3333333333333333,
              "#9c179e"
             ],
             [
              0.4444444444444444,
              "#bd3786"
             ],
             [
              0.5555555555555556,
              "#d8576b"
             ],
             [
              0.6666666666666666,
              "#ed7953"
             ],
             [
              0.7777777777777778,
              "#fb9f3a"
             ],
             [
              0.8888888888888888,
              "#fdca26"
             ],
             [
              1,
              "#f0f921"
             ]
            ],
            "type": "surface"
           }
          ],
          "table": [
           {
            "cells": {
             "fill": {
              "color": "#EBF0F8"
             },
             "line": {
              "color": "white"
             }
            },
            "header": {
             "fill": {
              "color": "#C8D4E3"
             },
             "line": {
              "color": "white"
             }
            },
            "type": "table"
           }
          ]
         },
         "layout": {
          "annotationdefaults": {
           "arrowcolor": "#2a3f5f",
           "arrowhead": 0,
           "arrowwidth": 1
          },
          "autotypenumbers": "strict",
          "coloraxis": {
           "colorbar": {
            "outlinewidth": 0,
            "ticks": ""
           }
          },
          "colorscale": {
           "diverging": [
            [
             0,
             "#8e0152"
            ],
            [
             0.1,
             "#c51b7d"
            ],
            [
             0.2,
             "#de77ae"
            ],
            [
             0.3,
             "#f1b6da"
            ],
            [
             0.4,
             "#fde0ef"
            ],
            [
             0.5,
             "#f7f7f7"
            ],
            [
             0.6,
             "#e6f5d0"
            ],
            [
             0.7,
             "#b8e186"
            ],
            [
             0.8,
             "#7fbc41"
            ],
            [
             0.9,
             "#4d9221"
            ],
            [
             1,
             "#276419"
            ]
           ],
           "sequential": [
            [
             0,
             "#0d0887"
            ],
            [
             0.1111111111111111,
             "#46039f"
            ],
            [
             0.2222222222222222,
             "#7201a8"
            ],
            [
             0.3333333333333333,
             "#9c179e"
            ],
            [
             0.4444444444444444,
             "#bd3786"
            ],
            [
             0.5555555555555556,
             "#d8576b"
            ],
            [
             0.6666666666666666,
             "#ed7953"
            ],
            [
             0.7777777777777778,
             "#fb9f3a"
            ],
            [
             0.8888888888888888,
             "#fdca26"
            ],
            [
             1,
             "#f0f921"
            ]
           ],
           "sequentialminus": [
            [
             0,
             "#0d0887"
            ],
            [
             0.1111111111111111,
             "#46039f"
            ],
            [
             0.2222222222222222,
             "#7201a8"
            ],
            [
             0.3333333333333333,
             "#9c179e"
            ],
            [
             0.4444444444444444,
             "#bd3786"
            ],
            [
             0.5555555555555556,
             "#d8576b"
            ],
            [
             0.6666666666666666,
             "#ed7953"
            ],
            [
             0.7777777777777778,
             "#fb9f3a"
            ],
            [
             0.8888888888888888,
             "#fdca26"
            ],
            [
             1,
             "#f0f921"
            ]
           ]
          },
          "colorway": [
           "#636efa",
           "#EF553B",
           "#00cc96",
           "#ab63fa",
           "#FFA15A",
           "#19d3f3",
           "#FF6692",
           "#B6E880",
           "#FF97FF",
           "#FECB52"
          ],
          "font": {
           "color": "#2a3f5f"
          },
          "geo": {
           "bgcolor": "white",
           "lakecolor": "white",
           "landcolor": "#E5ECF6",
           "showlakes": true,
           "showland": true,
           "subunitcolor": "white"
          },
          "hoverlabel": {
           "align": "left"
          },
          "hovermode": "closest",
          "mapbox": {
           "style": "light"
          },
          "paper_bgcolor": "white",
          "plot_bgcolor": "#E5ECF6",
          "polar": {
           "angularaxis": {
            "gridcolor": "white",
            "linecolor": "white",
            "ticks": ""
           },
           "bgcolor": "#E5ECF6",
           "radialaxis": {
            "gridcolor": "white",
            "linecolor": "white",
            "ticks": ""
           }
          },
          "scene": {
           "xaxis": {
            "backgroundcolor": "#E5ECF6",
            "gridcolor": "white",
            "gridwidth": 2,
            "linecolor": "white",
            "showbackground": true,
            "ticks": "",
            "zerolinecolor": "white"
           },
           "yaxis": {
            "backgroundcolor": "#E5ECF6",
            "gridcolor": "white",
            "gridwidth": 2,
            "linecolor": "white",
            "showbackground": true,
            "ticks": "",
            "zerolinecolor": "white"
           },
           "zaxis": {
            "backgroundcolor": "#E5ECF6",
            "gridcolor": "white",
            "gridwidth": 2,
            "linecolor": "white",
            "showbackground": true,
            "ticks": "",
            "zerolinecolor": "white"
           }
          },
          "shapedefaults": {
           "line": {
            "color": "#2a3f5f"
           }
          },
          "ternary": {
           "aaxis": {
            "gridcolor": "white",
            "linecolor": "white",
            "ticks": ""
           },
           "baxis": {
            "gridcolor": "white",
            "linecolor": "white",
            "ticks": ""
           },
           "bgcolor": "#E5ECF6",
           "caxis": {
            "gridcolor": "white",
            "linecolor": "white",
            "ticks": ""
           }
          },
          "title": {
           "x": 0.05
          },
          "xaxis": {
           "automargin": true,
           "gridcolor": "white",
           "linecolor": "white",
           "ticks": "",
           "title": {
            "standoff": 15
           },
           "zerolinecolor": "white",
           "zerolinewidth": 2
          },
          "yaxis": {
           "automargin": true,
           "gridcolor": "white",
           "linecolor": "white",
           "ticks": "",
           "title": {
            "standoff": 15
           },
           "zerolinecolor": "white",
           "zerolinewidth": 2
          }
         }
        },
        "width": 700
       }
      }
     },
     "metadata": {},
     "output_type": "display_data"
    }
   ],
   "source": [
    "fig = px.choropleth(data_except_group, locations = 'Geography', color = 'Impressions', hover_name = 'Geography',locationmode='country names')\n",
    "fig.update_geos(projection_type=\"orthographic\")\n",
    "fig.update_layout(height=500, width = 700, margin={\"r\":0,\"t\":0,\"l\":0,\"b\":0})"
   ]
  },
  {
   "cell_type": "code",
   "execution_count": 23,
   "metadata": {},
   "outputs": [
    {
     "data": {
      "application/vnd.plotly.v1+json": {
       "config": {
        "plotlyServerURL": "https://plot.ly"
       },
       "data": [
        {
         "alignmentgroup": "True",
         "hovertemplate": "x=%{x}<br>y=%{y}<br>color=%{marker.color}<extra></extra>",
         "legendgroup": "",
         "marker": {
          "color": [
           3,
           3,
           3,
           3,
           3,
           3,
           3,
           3,
           2
          ],
          "coloraxis": "coloraxis",
          "pattern": {
           "shape": ""
          }
         },
         "name": "",
         "offsetgroup": "",
         "orientation": "v",
         "showlegend": false,
         "textposition": "auto",
         "type": "bar",
         "x": [
          "UK",
          "USA",
          "Australia",
          "Canada",
          "Ghana",
          "Nepal",
          "Nigeria",
          "UAE",
          "India"
         ],
         "xaxis": "x",
         "y": [
          3,
          3,
          3,
          3,
          3,
          3,
          3,
          3,
          2
         ],
         "yaxis": "y"
        }
       ],
       "layout": {
        "barmode": "relative",
        "coloraxis": {
         "colorbar": {
          "title": {
           "text": "color"
          }
         },
         "colorscale": [
          [
           0,
           "#0d0887"
          ],
          [
           0.1111111111111111,
           "#46039f"
          ],
          [
           0.2222222222222222,
           "#7201a8"
          ],
          [
           0.3333333333333333,
           "#9c179e"
          ],
          [
           0.4444444444444444,
           "#bd3786"
          ],
          [
           0.5555555555555556,
           "#d8576b"
          ],
          [
           0.6666666666666666,
           "#ed7953"
          ],
          [
           0.7777777777777778,
           "#fb9f3a"
          ],
          [
           0.8888888888888888,
           "#fdca26"
          ],
          [
           1,
           "#f0f921"
          ]
         ]
        },
        "legend": {
         "tracegroupgap": 0
        },
        "margin": {
         "t": 60
        },
        "template": {
         "data": {
          "bar": [
           {
            "error_x": {
             "color": "#2a3f5f"
            },
            "error_y": {
             "color": "#2a3f5f"
            },
            "marker": {
             "line": {
              "color": "#E5ECF6",
              "width": 0.5
             },
             "pattern": {
              "fillmode": "overlay",
              "size": 10,
              "solidity": 0.2
             }
            },
            "type": "bar"
           }
          ],
          "barpolar": [
           {
            "marker": {
             "line": {
              "color": "#E5ECF6",
              "width": 0.5
             },
             "pattern": {
              "fillmode": "overlay",
              "size": 10,
              "solidity": 0.2
             }
            },
            "type": "barpolar"
           }
          ],
          "carpet": [
           {
            "aaxis": {
             "endlinecolor": "#2a3f5f",
             "gridcolor": "white",
             "linecolor": "white",
             "minorgridcolor": "white",
             "startlinecolor": "#2a3f5f"
            },
            "baxis": {
             "endlinecolor": "#2a3f5f",
             "gridcolor": "white",
             "linecolor": "white",
             "minorgridcolor": "white",
             "startlinecolor": "#2a3f5f"
            },
            "type": "carpet"
           }
          ],
          "choropleth": [
           {
            "colorbar": {
             "outlinewidth": 0,
             "ticks": ""
            },
            "type": "choropleth"
           }
          ],
          "contour": [
           {
            "colorbar": {
             "outlinewidth": 0,
             "ticks": ""
            },
            "colorscale": [
             [
              0,
              "#0d0887"
             ],
             [
              0.1111111111111111,
              "#46039f"
             ],
             [
              0.2222222222222222,
              "#7201a8"
             ],
             [
              0.3333333333333333,
              "#9c179e"
             ],
             [
              0.4444444444444444,
              "#bd3786"
             ],
             [
              0.5555555555555556,
              "#d8576b"
             ],
             [
              0.6666666666666666,
              "#ed7953"
             ],
             [
              0.7777777777777778,
              "#fb9f3a"
             ],
             [
              0.8888888888888888,
              "#fdca26"
             ],
             [
              1,
              "#f0f921"
             ]
            ],
            "type": "contour"
           }
          ],
          "contourcarpet": [
           {
            "colorbar": {
             "outlinewidth": 0,
             "ticks": ""
            },
            "type": "contourcarpet"
           }
          ],
          "heatmap": [
           {
            "colorbar": {
             "outlinewidth": 0,
             "ticks": ""
            },
            "colorscale": [
             [
              0,
              "#0d0887"
             ],
             [
              0.1111111111111111,
              "#46039f"
             ],
             [
              0.2222222222222222,
              "#7201a8"
             ],
             [
              0.3333333333333333,
              "#9c179e"
             ],
             [
              0.4444444444444444,
              "#bd3786"
             ],
             [
              0.5555555555555556,
              "#d8576b"
             ],
             [
              0.6666666666666666,
              "#ed7953"
             ],
             [
              0.7777777777777778,
              "#fb9f3a"
             ],
             [
              0.8888888888888888,
              "#fdca26"
             ],
             [
              1,
              "#f0f921"
             ]
            ],
            "type": "heatmap"
           }
          ],
          "heatmapgl": [
           {
            "colorbar": {
             "outlinewidth": 0,
             "ticks": ""
            },
            "colorscale": [
             [
              0,
              "#0d0887"
             ],
             [
              0.1111111111111111,
              "#46039f"
             ],
             [
              0.2222222222222222,
              "#7201a8"
             ],
             [
              0.3333333333333333,
              "#9c179e"
             ],
             [
              0.4444444444444444,
              "#bd3786"
             ],
             [
              0.5555555555555556,
              "#d8576b"
             ],
             [
              0.6666666666666666,
              "#ed7953"
             ],
             [
              0.7777777777777778,
              "#fb9f3a"
             ],
             [
              0.8888888888888888,
              "#fdca26"
             ],
             [
              1,
              "#f0f921"
             ]
            ],
            "type": "heatmapgl"
           }
          ],
          "histogram": [
           {
            "marker": {
             "pattern": {
              "fillmode": "overlay",
              "size": 10,
              "solidity": 0.2
             }
            },
            "type": "histogram"
           }
          ],
          "histogram2d": [
           {
            "colorbar": {
             "outlinewidth": 0,
             "ticks": ""
            },
            "colorscale": [
             [
              0,
              "#0d0887"
             ],
             [
              0.1111111111111111,
              "#46039f"
             ],
             [
              0.2222222222222222,
              "#7201a8"
             ],
             [
              0.3333333333333333,
              "#9c179e"
             ],
             [
              0.4444444444444444,
              "#bd3786"
             ],
             [
              0.5555555555555556,
              "#d8576b"
             ],
             [
              0.6666666666666666,
              "#ed7953"
             ],
             [
              0.7777777777777778,
              "#fb9f3a"
             ],
             [
              0.8888888888888888,
              "#fdca26"
             ],
             [
              1,
              "#f0f921"
             ]
            ],
            "type": "histogram2d"
           }
          ],
          "histogram2dcontour": [
           {
            "colorbar": {
             "outlinewidth": 0,
             "ticks": ""
            },
            "colorscale": [
             [
              0,
              "#0d0887"
             ],
             [
              0.1111111111111111,
              "#46039f"
             ],
             [
              0.2222222222222222,
              "#7201a8"
             ],
             [
              0.3333333333333333,
              "#9c179e"
             ],
             [
              0.4444444444444444,
              "#bd3786"
             ],
             [
              0.5555555555555556,
              "#d8576b"
             ],
             [
              0.6666666666666666,
              "#ed7953"
             ],
             [
              0.7777777777777778,
              "#fb9f3a"
             ],
             [
              0.8888888888888888,
              "#fdca26"
             ],
             [
              1,
              "#f0f921"
             ]
            ],
            "type": "histogram2dcontour"
           }
          ],
          "mesh3d": [
           {
            "colorbar": {
             "outlinewidth": 0,
             "ticks": ""
            },
            "type": "mesh3d"
           }
          ],
          "parcoords": [
           {
            "line": {
             "colorbar": {
              "outlinewidth": 0,
              "ticks": ""
             }
            },
            "type": "parcoords"
           }
          ],
          "pie": [
           {
            "automargin": true,
            "type": "pie"
           }
          ],
          "scatter": [
           {
            "marker": {
             "colorbar": {
              "outlinewidth": 0,
              "ticks": ""
             }
            },
            "type": "scatter"
           }
          ],
          "scatter3d": [
           {
            "line": {
             "colorbar": {
              "outlinewidth": 0,
              "ticks": ""
             }
            },
            "marker": {
             "colorbar": {
              "outlinewidth": 0,
              "ticks": ""
             }
            },
            "type": "scatter3d"
           }
          ],
          "scattercarpet": [
           {
            "marker": {
             "colorbar": {
              "outlinewidth": 0,
              "ticks": ""
             }
            },
            "type": "scattercarpet"
           }
          ],
          "scattergeo": [
           {
            "marker": {
             "colorbar": {
              "outlinewidth": 0,
              "ticks": ""
             }
            },
            "type": "scattergeo"
           }
          ],
          "scattergl": [
           {
            "marker": {
             "colorbar": {
              "outlinewidth": 0,
              "ticks": ""
             }
            },
            "type": "scattergl"
           }
          ],
          "scattermapbox": [
           {
            "marker": {
             "colorbar": {
              "outlinewidth": 0,
              "ticks": ""
             }
            },
            "type": "scattermapbox"
           }
          ],
          "scatterpolar": [
           {
            "marker": {
             "colorbar": {
              "outlinewidth": 0,
              "ticks": ""
             }
            },
            "type": "scatterpolar"
           }
          ],
          "scatterpolargl": [
           {
            "marker": {
             "colorbar": {
              "outlinewidth": 0,
              "ticks": ""
             }
            },
            "type": "scatterpolargl"
           }
          ],
          "scatterternary": [
           {
            "marker": {
             "colorbar": {
              "outlinewidth": 0,
              "ticks": ""
             }
            },
            "type": "scatterternary"
           }
          ],
          "surface": [
           {
            "colorbar": {
             "outlinewidth": 0,
             "ticks": ""
            },
            "colorscale": [
             [
              0,
              "#0d0887"
             ],
             [
              0.1111111111111111,
              "#46039f"
             ],
             [
              0.2222222222222222,
              "#7201a8"
             ],
             [
              0.3333333333333333,
              "#9c179e"
             ],
             [
              0.4444444444444444,
              "#bd3786"
             ],
             [
              0.5555555555555556,
              "#d8576b"
             ],
             [
              0.6666666666666666,
              "#ed7953"
             ],
             [
              0.7777777777777778,
              "#fb9f3a"
             ],
             [
              0.8888888888888888,
              "#fdca26"
             ],
             [
              1,
              "#f0f921"
             ]
            ],
            "type": "surface"
           }
          ],
          "table": [
           {
            "cells": {
             "fill": {
              "color": "#EBF0F8"
             },
             "line": {
              "color": "white"
             }
            },
            "header": {
             "fill": {
              "color": "#C8D4E3"
             },
             "line": {
              "color": "white"
             }
            },
            "type": "table"
           }
          ]
         },
         "layout": {
          "annotationdefaults": {
           "arrowcolor": "#2a3f5f",
           "arrowhead": 0,
           "arrowwidth": 1
          },
          "autotypenumbers": "strict",
          "coloraxis": {
           "colorbar": {
            "outlinewidth": 0,
            "ticks": ""
           }
          },
          "colorscale": {
           "diverging": [
            [
             0,
             "#8e0152"
            ],
            [
             0.1,
             "#c51b7d"
            ],
            [
             0.2,
             "#de77ae"
            ],
            [
             0.3,
             "#f1b6da"
            ],
            [
             0.4,
             "#fde0ef"
            ],
            [
             0.5,
             "#f7f7f7"
            ],
            [
             0.6,
             "#e6f5d0"
            ],
            [
             0.7,
             "#b8e186"
            ],
            [
             0.8,
             "#7fbc41"
            ],
            [
             0.9,
             "#4d9221"
            ],
            [
             1,
             "#276419"
            ]
           ],
           "sequential": [
            [
             0,
             "#0d0887"
            ],
            [
             0.1111111111111111,
             "#46039f"
            ],
            [
             0.2222222222222222,
             "#7201a8"
            ],
            [
             0.3333333333333333,
             "#9c179e"
            ],
            [
             0.4444444444444444,
             "#bd3786"
            ],
            [
             0.5555555555555556,
             "#d8576b"
            ],
            [
             0.6666666666666666,
             "#ed7953"
            ],
            [
             0.7777777777777778,
             "#fb9f3a"
            ],
            [
             0.8888888888888888,
             "#fdca26"
            ],
            [
             1,
             "#f0f921"
            ]
           ],
           "sequentialminus": [
            [
             0,
             "#0d0887"
            ],
            [
             0.1111111111111111,
             "#46039f"
            ],
            [
             0.2222222222222222,
             "#7201a8"
            ],
            [
             0.3333333333333333,
             "#9c179e"
            ],
            [
             0.4444444444444444,
             "#bd3786"
            ],
            [
             0.5555555555555556,
             "#d8576b"
            ],
            [
             0.6666666666666666,
             "#ed7953"
            ],
            [
             0.7777777777777778,
             "#fb9f3a"
            ],
            [
             0.8888888888888888,
             "#fdca26"
            ],
            [
             1,
             "#f0f921"
            ]
           ]
          },
          "colorway": [
           "#636efa",
           "#EF553B",
           "#00cc96",
           "#ab63fa",
           "#FFA15A",
           "#19d3f3",
           "#FF6692",
           "#B6E880",
           "#FF97FF",
           "#FECB52"
          ],
          "font": {
           "color": "#2a3f5f"
          },
          "geo": {
           "bgcolor": "white",
           "lakecolor": "white",
           "landcolor": "#E5ECF6",
           "showlakes": true,
           "showland": true,
           "subunitcolor": "white"
          },
          "hoverlabel": {
           "align": "left"
          },
          "hovermode": "closest",
          "mapbox": {
           "style": "light"
          },
          "paper_bgcolor": "white",
          "plot_bgcolor": "#E5ECF6",
          "polar": {
           "angularaxis": {
            "gridcolor": "white",
            "linecolor": "white",
            "ticks": ""
           },
           "bgcolor": "#E5ECF6",
           "radialaxis": {
            "gridcolor": "white",
            "linecolor": "white",
            "ticks": ""
           }
          },
          "scene": {
           "xaxis": {
            "backgroundcolor": "#E5ECF6",
            "gridcolor": "white",
            "gridwidth": 2,
            "linecolor": "white",
            "showbackground": true,
            "ticks": "",
            "zerolinecolor": "white"
           },
           "yaxis": {
            "backgroundcolor": "#E5ECF6",
            "gridcolor": "white",
            "gridwidth": 2,
            "linecolor": "white",
            "showbackground": true,
            "ticks": "",
            "zerolinecolor": "white"
           },
           "zaxis": {
            "backgroundcolor": "#E5ECF6",
            "gridcolor": "white",
            "gridwidth": 2,
            "linecolor": "white",
            "showbackground": true,
            "ticks": "",
            "zerolinecolor": "white"
           }
          },
          "shapedefaults": {
           "line": {
            "color": "#2a3f5f"
           }
          },
          "ternary": {
           "aaxis": {
            "gridcolor": "white",
            "linecolor": "white",
            "ticks": ""
           },
           "baxis": {
            "gridcolor": "white",
            "linecolor": "white",
            "ticks": ""
           },
           "bgcolor": "#E5ECF6",
           "caxis": {
            "gridcolor": "white",
            "linecolor": "white",
            "ticks": ""
           }
          },
          "title": {
           "x": 0.05
          },
          "xaxis": {
           "automargin": true,
           "gridcolor": "white",
           "linecolor": "white",
           "ticks": "",
           "title": {
            "standoff": 15
           },
           "zerolinecolor": "white",
           "zerolinewidth": 2
          },
          "yaxis": {
           "automargin": true,
           "gridcolor": "white",
           "linecolor": "white",
           "ticks": "",
           "title": {
            "standoff": 15
           },
           "zerolinecolor": "white",
           "zerolinewidth": 2
          }
         }
        },
        "title": {
         "text": "Impressions countrywise"
        },
        "xaxis": {
         "anchor": "y",
         "domain": [
          0,
          1
         ],
         "title": {
          "text": "Countries"
         }
        },
        "yaxis": {
         "anchor": "x",
         "domain": [
          0,
          1
         ],
         "title": {
          "text": "Impresssions"
         }
        }
       }
      }
     },
     "metadata": {},
     "output_type": "display_data"
    }
   ],
   "source": [
    "\n",
    "# fig = px.bar(x=data[\"Geography\"].value_counts().keys(), y=data[\"Geography\"].value_counts().values, title=\"Total Sales by Geography\")\n",
    "fig = px.bar(data_except_group, x = data_except_group.Geography.value_counts().keys(), y = data_except_group.Geography.value_counts().values, color =  data_except_group.Geography.value_counts().values\n",
    ")\n",
    "fig.update_layout(title= \"Impressions countrywise\")\n",
    "fig.update_xaxes(title_text='Countries')\n",
    "fig.update_yaxes(title_text='Impresssions')"
   ]
  },
  {
   "cell_type": "code",
   "execution_count": 28,
   "metadata": {},
   "outputs": [
    {
     "data": {
      "text/html": [
       "<div>\n",
       "<style scoped>\n",
       "    .dataframe tbody tr th:only-of-type {\n",
       "        vertical-align: middle;\n",
       "    }\n",
       "\n",
       "    .dataframe tbody tr th {\n",
       "        vertical-align: top;\n",
       "    }\n",
       "\n",
       "    .dataframe thead th {\n",
       "        text-align: right;\n",
       "    }\n",
       "</style>\n",
       "<table border=\"1\" class=\"dataframe\">\n",
       "  <thead>\n",
       "    <tr style=\"text-align: right;\">\n",
       "      <th></th>\n",
       "      <th>Reach</th>\n",
       "      <th>Impressions</th>\n",
       "      <th>Frequency</th>\n",
       "      <th>Clicks</th>\n",
       "      <th>Unique Clicks</th>\n",
       "      <th>Unique Link Clicks (ULC)</th>\n",
       "      <th>Click-Through Rate (CTR)</th>\n",
       "      <th>Unique Click-Through Rate (Unique CTR)</th>\n",
       "      <th>Amount Spent in INR</th>\n",
       "      <th>Cost per Result (CPR)</th>\n",
       "      <th>Cost Per Click (CPC)</th>\n",
       "      <th>Revenue</th>\n",
       "    </tr>\n",
       "  </thead>\n",
       "  <tbody>\n",
       "    <tr>\n",
       "      <th>count</th>\n",
       "      <td>26.000000</td>\n",
       "      <td>26.000000</td>\n",
       "      <td>26.000000</td>\n",
       "      <td>26.000000</td>\n",
       "      <td>26.000000</td>\n",
       "      <td>26.000000</td>\n",
       "      <td>26.000000</td>\n",
       "      <td>26.000000</td>\n",
       "      <td>26.000000</td>\n",
       "      <td>26.000000</td>\n",
       "      <td>26.000000</td>\n",
       "      <td>26.000000</td>\n",
       "    </tr>\n",
       "    <tr>\n",
       "      <th>mean</th>\n",
       "      <td>4556.538462</td>\n",
       "      <td>6746.461538</td>\n",
       "      <td>1.323193</td>\n",
       "      <td>271.692308</td>\n",
       "      <td>219.384615</td>\n",
       "      <td>124.692308</td>\n",
       "      <td>5.006559</td>\n",
       "      <td>5.155893</td>\n",
       "      <td>314.471538</td>\n",
       "      <td>8.789231</td>\n",
       "      <td>3.701342</td>\n",
       "      <td>314.471539</td>\n",
       "    </tr>\n",
       "    <tr>\n",
       "      <th>std</th>\n",
       "      <td>6653.104534</td>\n",
       "      <td>9874.332610</td>\n",
       "      <td>0.450539</td>\n",
       "      <td>407.856227</td>\n",
       "      <td>325.965284</td>\n",
       "      <td>210.651327</td>\n",
       "      <td>3.094155</td>\n",
       "      <td>2.742129</td>\n",
       "      <td>217.980606</td>\n",
       "      <td>8.392976</td>\n",
       "      <td>2.972560</td>\n",
       "      <td>217.979856</td>\n",
       "    </tr>\n",
       "    <tr>\n",
       "      <th>min</th>\n",
       "      <td>91.000000</td>\n",
       "      <td>103.000000</td>\n",
       "      <td>1.042614</td>\n",
       "      <td>9.000000</td>\n",
       "      <td>8.000000</td>\n",
       "      <td>3.000000</td>\n",
       "      <td>1.668892</td>\n",
       "      <td>2.026599</td>\n",
       "      <td>47.260000</td>\n",
       "      <td>0.690000</td>\n",
       "      <td>0.290938</td>\n",
       "      <td>47.262639</td>\n",
       "    </tr>\n",
       "    <tr>\n",
       "      <th>25%</th>\n",
       "      <td>745.500000</td>\n",
       "      <td>808.250000</td>\n",
       "      <td>1.118504</td>\n",
       "      <td>44.500000</td>\n",
       "      <td>38.750000</td>\n",
       "      <td>21.750000</td>\n",
       "      <td>2.436769</td>\n",
       "      <td>3.546516</td>\n",
       "      <td>128.210000</td>\n",
       "      <td>1.950000</td>\n",
       "      <td>0.752550</td>\n",
       "      <td>128.207211</td>\n",
       "    </tr>\n",
       "    <tr>\n",
       "      <th>50%</th>\n",
       "      <td>2358.000000</td>\n",
       "      <td>2861.500000</td>\n",
       "      <td>1.157058</td>\n",
       "      <td>96.500000</td>\n",
       "      <td>80.000000</td>\n",
       "      <td>43.500000</td>\n",
       "      <td>4.043758</td>\n",
       "      <td>4.153901</td>\n",
       "      <td>282.215000</td>\n",
       "      <td>6.440000</td>\n",
       "      <td>3.537421</td>\n",
       "      <td>282.212937</td>\n",
       "    </tr>\n",
       "    <tr>\n",
       "      <th>75%</th>\n",
       "      <td>5172.000000</td>\n",
       "      <td>8425.750000</td>\n",
       "      <td>1.300814</td>\n",
       "      <td>274.500000</td>\n",
       "      <td>225.500000</td>\n",
       "      <td>97.250000</td>\n",
       "      <td>6.487450</td>\n",
       "      <td>6.349844</td>\n",
       "      <td>470.760000</td>\n",
       "      <td>12.512500</td>\n",
       "      <td>5.655860</td>\n",
       "      <td>470.758757</td>\n",
       "    </tr>\n",
       "    <tr>\n",
       "      <th>max</th>\n",
       "      <td>30110.000000</td>\n",
       "      <td>36659.000000</td>\n",
       "      <td>3.169081</td>\n",
       "      <td>1491.000000</td>\n",
       "      <td>1162.000000</td>\n",
       "      <td>934.000000</td>\n",
       "      <td>12.951807</td>\n",
       "      <td>12.131148</td>\n",
       "      <td>894.000000</td>\n",
       "      <td>30.550000</td>\n",
       "      <td>10.184692</td>\n",
       "      <td>893.995136</td>\n",
       "    </tr>\n",
       "  </tbody>\n",
       "</table>\n",
       "</div>"
      ],
      "text/plain": [
       "              Reach   Impressions  Frequency       Clicks  Unique Clicks  \\\n",
       "count     26.000000     26.000000  26.000000    26.000000      26.000000   \n",
       "mean    4556.538462   6746.461538   1.323193   271.692308     219.384615   \n",
       "std     6653.104534   9874.332610   0.450539   407.856227     325.965284   \n",
       "min       91.000000    103.000000   1.042614     9.000000       8.000000   \n",
       "25%      745.500000    808.250000   1.118504    44.500000      38.750000   \n",
       "50%     2358.000000   2861.500000   1.157058    96.500000      80.000000   \n",
       "75%     5172.000000   8425.750000   1.300814   274.500000     225.500000   \n",
       "max    30110.000000  36659.000000   3.169081  1491.000000    1162.000000   \n",
       "\n",
       "       Unique Link Clicks (ULC)  Click-Through Rate (CTR)  \\\n",
       "count                 26.000000                 26.000000   \n",
       "mean                 124.692308                  5.006559   \n",
       "std                  210.651327                  3.094155   \n",
       "min                    3.000000                  1.668892   \n",
       "25%                   21.750000                  2.436769   \n",
       "50%                   43.500000                  4.043758   \n",
       "75%                   97.250000                  6.487450   \n",
       "max                  934.000000                 12.951807   \n",
       "\n",
       "       Unique Click-Through Rate (Unique CTR)  Amount Spent in INR  \\\n",
       "count                               26.000000            26.000000   \n",
       "mean                                 5.155893           314.471538   \n",
       "std                                  2.742129           217.980606   \n",
       "min                                  2.026599            47.260000   \n",
       "25%                                  3.546516           128.210000   \n",
       "50%                                  4.153901           282.215000   \n",
       "75%                                  6.349844           470.760000   \n",
       "max                                 12.131148           894.000000   \n",
       "\n",
       "       Cost per Result (CPR)  Cost Per Click (CPC)     Revenue  \n",
       "count              26.000000             26.000000   26.000000  \n",
       "mean                8.789231              3.701342  314.471539  \n",
       "std                 8.392976              2.972560  217.979856  \n",
       "min                 0.690000              0.290938   47.262639  \n",
       "25%                 1.950000              0.752550  128.207211  \n",
       "50%                 6.440000              3.537421  282.212937  \n",
       "75%                12.512500              5.655860  470.758757  \n",
       "max                30.550000             10.184692  893.995136  "
      ]
     },
     "execution_count": 28,
     "metadata": {},
     "output_type": "execute_result"
    }
   ],
   "source": [
    "data_except_group.describe()"
   ]
  },
  {
   "cell_type": "code",
   "execution_count": 64,
   "metadata": {},
   "outputs": [
    {
     "data": {
      "application/vnd.plotly.v1+json": {
       "config": {
        "plotlyServerURL": "https://plot.ly"
       },
       "data": [
        {
         "alignmentgroup": "True",
         "hovertemplate": "x=%{x}<br>index=%{y}<br>color=%{marker.color}<extra></extra>",
         "legendgroup": "",
         "marker": {
          "color": [
           7,
           6,
           6,
           6
          ],
          "coloraxis": "coloraxis",
          "pattern": {
           "shape": ""
          }
         },
         "name": "",
         "offsetgroup": "",
         "orientation": "h",
         "showlegend": false,
         "textposition": "auto",
         "type": "bar",
         "x": [
          7,
          6,
          6,
          6
         ],
         "xaxis": "x",
         "y": [
          0,
          1,
          2,
          3
         ],
         "yaxis": "y"
        }
       ],
       "layout": {
        "barmode": "relative",
        "coloraxis": {
         "colorbar": {
          "title": {
           "text": "color"
          }
         },
         "colorscale": [
          [
           0,
           "#0d0887"
          ],
          [
           0.1111111111111111,
           "#46039f"
          ],
          [
           0.2222222222222222,
           "#7201a8"
          ],
          [
           0.3333333333333333,
           "#9c179e"
          ],
          [
           0.4444444444444444,
           "#bd3786"
          ],
          [
           0.5555555555555556,
           "#d8576b"
          ],
          [
           0.6666666666666666,
           "#ed7953"
          ],
          [
           0.7777777777777778,
           "#fb9f3a"
          ],
          [
           0.8888888888888888,
           "#fdca26"
          ],
          [
           1,
           "#f0f921"
          ]
         ]
        },
        "legend": {
         "tracegroupgap": 0
        },
        "margin": {
         "t": 60
        },
        "template": {
         "data": {
          "bar": [
           {
            "error_x": {
             "color": "#f2f5fa"
            },
            "error_y": {
             "color": "#f2f5fa"
            },
            "marker": {
             "line": {
              "color": "rgb(17,17,17)",
              "width": 0.5
             },
             "pattern": {
              "fillmode": "overlay",
              "size": 10,
              "solidity": 0.2
             }
            },
            "type": "bar"
           }
          ],
          "barpolar": [
           {
            "marker": {
             "line": {
              "color": "rgb(17,17,17)",
              "width": 0.5
             },
             "pattern": {
              "fillmode": "overlay",
              "size": 10,
              "solidity": 0.2
             }
            },
            "type": "barpolar"
           }
          ],
          "carpet": [
           {
            "aaxis": {
             "endlinecolor": "#A2B1C6",
             "gridcolor": "#506784",
             "linecolor": "#506784",
             "minorgridcolor": "#506784",
             "startlinecolor": "#A2B1C6"
            },
            "baxis": {
             "endlinecolor": "#A2B1C6",
             "gridcolor": "#506784",
             "linecolor": "#506784",
             "minorgridcolor": "#506784",
             "startlinecolor": "#A2B1C6"
            },
            "type": "carpet"
           }
          ],
          "choropleth": [
           {
            "colorbar": {
             "outlinewidth": 0,
             "ticks": ""
            },
            "type": "choropleth"
           }
          ],
          "contour": [
           {
            "colorbar": {
             "outlinewidth": 0,
             "ticks": ""
            },
            "colorscale": [
             [
              0,
              "#0d0887"
             ],
             [
              0.1111111111111111,
              "#46039f"
             ],
             [
              0.2222222222222222,
              "#7201a8"
             ],
             [
              0.3333333333333333,
              "#9c179e"
             ],
             [
              0.4444444444444444,
              "#bd3786"
             ],
             [
              0.5555555555555556,
              "#d8576b"
             ],
             [
              0.6666666666666666,
              "#ed7953"
             ],
             [
              0.7777777777777778,
              "#fb9f3a"
             ],
             [
              0.8888888888888888,
              "#fdca26"
             ],
             [
              1,
              "#f0f921"
             ]
            ],
            "type": "contour"
           }
          ],
          "contourcarpet": [
           {
            "colorbar": {
             "outlinewidth": 0,
             "ticks": ""
            },
            "type": "contourcarpet"
           }
          ],
          "heatmap": [
           {
            "colorbar": {
             "outlinewidth": 0,
             "ticks": ""
            },
            "colorscale": [
             [
              0,
              "#0d0887"
             ],
             [
              0.1111111111111111,
              "#46039f"
             ],
             [
              0.2222222222222222,
              "#7201a8"
             ],
             [
              0.3333333333333333,
              "#9c179e"
             ],
             [
              0.4444444444444444,
              "#bd3786"
             ],
             [
              0.5555555555555556,
              "#d8576b"
             ],
             [
              0.6666666666666666,
              "#ed7953"
             ],
             [
              0.7777777777777778,
              "#fb9f3a"
             ],
             [
              0.8888888888888888,
              "#fdca26"
             ],
             [
              1,
              "#f0f921"
             ]
            ],
            "type": "heatmap"
           }
          ],
          "heatmapgl": [
           {
            "colorbar": {
             "outlinewidth": 0,
             "ticks": ""
            },
            "colorscale": [
             [
              0,
              "#0d0887"
             ],
             [
              0.1111111111111111,
              "#46039f"
             ],
             [
              0.2222222222222222,
              "#7201a8"
             ],
             [
              0.3333333333333333,
              "#9c179e"
             ],
             [
              0.4444444444444444,
              "#bd3786"
             ],
             [
              0.5555555555555556,
              "#d8576b"
             ],
             [
              0.6666666666666666,
              "#ed7953"
             ],
             [
              0.7777777777777778,
              "#fb9f3a"
             ],
             [
              0.8888888888888888,
              "#fdca26"
             ],
             [
              1,
              "#f0f921"
             ]
            ],
            "type": "heatmapgl"
           }
          ],
          "histogram": [
           {
            "marker": {
             "pattern": {
              "fillmode": "overlay",
              "size": 10,
              "solidity": 0.2
             }
            },
            "type": "histogram"
           }
          ],
          "histogram2d": [
           {
            "colorbar": {
             "outlinewidth": 0,
             "ticks": ""
            },
            "colorscale": [
             [
              0,
              "#0d0887"
             ],
             [
              0.1111111111111111,
              "#46039f"
             ],
             [
              0.2222222222222222,
              "#7201a8"
             ],
             [
              0.3333333333333333,
              "#9c179e"
             ],
             [
              0.4444444444444444,
              "#bd3786"
             ],
             [
              0.5555555555555556,
              "#d8576b"
             ],
             [
              0.6666666666666666,
              "#ed7953"
             ],
             [
              0.7777777777777778,
              "#fb9f3a"
             ],
             [
              0.8888888888888888,
              "#fdca26"
             ],
             [
              1,
              "#f0f921"
             ]
            ],
            "type": "histogram2d"
           }
          ],
          "histogram2dcontour": [
           {
            "colorbar": {
             "outlinewidth": 0,
             "ticks": ""
            },
            "colorscale": [
             [
              0,
              "#0d0887"
             ],
             [
              0.1111111111111111,
              "#46039f"
             ],
             [
              0.2222222222222222,
              "#7201a8"
             ],
             [
              0.3333333333333333,
              "#9c179e"
             ],
             [
              0.4444444444444444,
              "#bd3786"
             ],
             [
              0.5555555555555556,
              "#d8576b"
             ],
             [
              0.6666666666666666,
              "#ed7953"
             ],
             [
              0.7777777777777778,
              "#fb9f3a"
             ],
             [
              0.8888888888888888,
              "#fdca26"
             ],
             [
              1,
              "#f0f921"
             ]
            ],
            "type": "histogram2dcontour"
           }
          ],
          "mesh3d": [
           {
            "colorbar": {
             "outlinewidth": 0,
             "ticks": ""
            },
            "type": "mesh3d"
           }
          ],
          "parcoords": [
           {
            "line": {
             "colorbar": {
              "outlinewidth": 0,
              "ticks": ""
             }
            },
            "type": "parcoords"
           }
          ],
          "pie": [
           {
            "automargin": true,
            "type": "pie"
           }
          ],
          "scatter": [
           {
            "marker": {
             "line": {
              "color": "#283442"
             }
            },
            "type": "scatter"
           }
          ],
          "scatter3d": [
           {
            "line": {
             "colorbar": {
              "outlinewidth": 0,
              "ticks": ""
             }
            },
            "marker": {
             "colorbar": {
              "outlinewidth": 0,
              "ticks": ""
             }
            },
            "type": "scatter3d"
           }
          ],
          "scattercarpet": [
           {
            "marker": {
             "colorbar": {
              "outlinewidth": 0,
              "ticks": ""
             }
            },
            "type": "scattercarpet"
           }
          ],
          "scattergeo": [
           {
            "marker": {
             "colorbar": {
              "outlinewidth": 0,
              "ticks": ""
             }
            },
            "type": "scattergeo"
           }
          ],
          "scattergl": [
           {
            "marker": {
             "line": {
              "color": "#283442"
             }
            },
            "type": "scattergl"
           }
          ],
          "scattermapbox": [
           {
            "marker": {
             "colorbar": {
              "outlinewidth": 0,
              "ticks": ""
             }
            },
            "type": "scattermapbox"
           }
          ],
          "scatterpolar": [
           {
            "marker": {
             "colorbar": {
              "outlinewidth": 0,
              "ticks": ""
             }
            },
            "type": "scatterpolar"
           }
          ],
          "scatterpolargl": [
           {
            "marker": {
             "colorbar": {
              "outlinewidth": 0,
              "ticks": ""
             }
            },
            "type": "scatterpolargl"
           }
          ],
          "scatterternary": [
           {
            "marker": {
             "colorbar": {
              "outlinewidth": 0,
              "ticks": ""
             }
            },
            "type": "scatterternary"
           }
          ],
          "surface": [
           {
            "colorbar": {
             "outlinewidth": 0,
             "ticks": ""
            },
            "colorscale": [
             [
              0,
              "#0d0887"
             ],
             [
              0.1111111111111111,
              "#46039f"
             ],
             [
              0.2222222222222222,
              "#7201a8"
             ],
             [
              0.3333333333333333,
              "#9c179e"
             ],
             [
              0.4444444444444444,
              "#bd3786"
             ],
             [
              0.5555555555555556,
              "#d8576b"
             ],
             [
              0.6666666666666666,
              "#ed7953"
             ],
             [
              0.7777777777777778,
              "#fb9f3a"
             ],
             [
              0.8888888888888888,
              "#fdca26"
             ],
             [
              1,
              "#f0f921"
             ]
            ],
            "type": "surface"
           }
          ],
          "table": [
           {
            "cells": {
             "fill": {
              "color": "#506784"
             },
             "line": {
              "color": "rgb(17,17,17)"
             }
            },
            "header": {
             "fill": {
              "color": "#2a3f5f"
             },
             "line": {
              "color": "rgb(17,17,17)"
             }
            },
            "type": "table"
           }
          ]
         },
         "layout": {
          "annotationdefaults": {
           "arrowcolor": "#f2f5fa",
           "arrowhead": 0,
           "arrowwidth": 1
          },
          "autotypenumbers": "strict",
          "coloraxis": {
           "colorbar": {
            "outlinewidth": 0,
            "ticks": ""
           }
          },
          "colorscale": {
           "diverging": [
            [
             0,
             "#8e0152"
            ],
            [
             0.1,
             "#c51b7d"
            ],
            [
             0.2,
             "#de77ae"
            ],
            [
             0.3,
             "#f1b6da"
            ],
            [
             0.4,
             "#fde0ef"
            ],
            [
             0.5,
             "#f7f7f7"
            ],
            [
             0.6,
             "#e6f5d0"
            ],
            [
             0.7,
             "#b8e186"
            ],
            [
             0.8,
             "#7fbc41"
            ],
            [
             0.9,
             "#4d9221"
            ],
            [
             1,
             "#276419"
            ]
           ],
           "sequential": [
            [
             0,
             "#0d0887"
            ],
            [
             0.1111111111111111,
             "#46039f"
            ],
            [
             0.2222222222222222,
             "#7201a8"
            ],
            [
             0.3333333333333333,
             "#9c179e"
            ],
            [
             0.4444444444444444,
             "#bd3786"
            ],
            [
             0.5555555555555556,
             "#d8576b"
            ],
            [
             0.6666666666666666,
             "#ed7953"
            ],
            [
             0.7777777777777778,
             "#fb9f3a"
            ],
            [
             0.8888888888888888,
             "#fdca26"
            ],
            [
             1,
             "#f0f921"
            ]
           ],
           "sequentialminus": [
            [
             0,
             "#0d0887"
            ],
            [
             0.1111111111111111,
             "#46039f"
            ],
            [
             0.2222222222222222,
             "#7201a8"
            ],
            [
             0.3333333333333333,
             "#9c179e"
            ],
            [
             0.4444444444444444,
             "#bd3786"
            ],
            [
             0.5555555555555556,
             "#d8576b"
            ],
            [
             0.6666666666666666,
             "#ed7953"
            ],
            [
             0.7777777777777778,
             "#fb9f3a"
            ],
            [
             0.8888888888888888,
             "#fdca26"
            ],
            [
             1,
             "#f0f921"
            ]
           ]
          },
          "colorway": [
           "#636efa",
           "#EF553B",
           "#00cc96",
           "#ab63fa",
           "#FFA15A",
           "#19d3f3",
           "#FF6692",
           "#B6E880",
           "#FF97FF",
           "#FECB52"
          ],
          "font": {
           "color": "#f2f5fa"
          },
          "geo": {
           "bgcolor": "rgb(17,17,17)",
           "lakecolor": "rgb(17,17,17)",
           "landcolor": "rgb(17,17,17)",
           "showlakes": true,
           "showland": true,
           "subunitcolor": "#506784"
          },
          "hoverlabel": {
           "align": "left"
          },
          "hovermode": "closest",
          "mapbox": {
           "style": "dark"
          },
          "paper_bgcolor": "rgb(17,17,17)",
          "plot_bgcolor": "rgb(17,17,17)",
          "polar": {
           "angularaxis": {
            "gridcolor": "#506784",
            "linecolor": "#506784",
            "ticks": ""
           },
           "bgcolor": "rgb(17,17,17)",
           "radialaxis": {
            "gridcolor": "#506784",
            "linecolor": "#506784",
            "ticks": ""
           }
          },
          "scene": {
           "xaxis": {
            "backgroundcolor": "rgb(17,17,17)",
            "gridcolor": "#506784",
            "gridwidth": 2,
            "linecolor": "#506784",
            "showbackground": true,
            "ticks": "",
            "zerolinecolor": "#C8D4E3"
           },
           "yaxis": {
            "backgroundcolor": "rgb(17,17,17)",
            "gridcolor": "#506784",
            "gridwidth": 2,
            "linecolor": "#506784",
            "showbackground": true,
            "ticks": "",
            "zerolinecolor": "#C8D4E3"
           },
           "zaxis": {
            "backgroundcolor": "rgb(17,17,17)",
            "gridcolor": "#506784",
            "gridwidth": 2,
            "linecolor": "#506784",
            "showbackground": true,
            "ticks": "",
            "zerolinecolor": "#C8D4E3"
           }
          },
          "shapedefaults": {
           "line": {
            "color": "#f2f5fa"
           }
          },
          "sliderdefaults": {
           "bgcolor": "#C8D4E3",
           "bordercolor": "rgb(17,17,17)",
           "borderwidth": 1,
           "tickwidth": 0
          },
          "ternary": {
           "aaxis": {
            "gridcolor": "#506784",
            "linecolor": "#506784",
            "ticks": ""
           },
           "baxis": {
            "gridcolor": "#506784",
            "linecolor": "#506784",
            "ticks": ""
           },
           "bgcolor": "rgb(17,17,17)",
           "caxis": {
            "gridcolor": "#506784",
            "linecolor": "#506784",
            "ticks": ""
           }
          },
          "title": {
           "x": 0.05
          },
          "updatemenudefaults": {
           "bgcolor": "#506784",
           "borderwidth": 0
          },
          "xaxis": {
           "automargin": true,
           "gridcolor": "#283442",
           "linecolor": "#506784",
           "ticks": "",
           "title": {
            "standoff": 15
           },
           "zerolinecolor": "#283442",
           "zerolinewidth": 2
          },
          "yaxis": {
           "automargin": true,
           "gridcolor": "#283442",
           "linecolor": "#506784",
           "ticks": "",
           "title": {
            "standoff": 15
           },
           "zerolinecolor": "#283442",
           "zerolinewidth": 2
          }
         }
        },
        "xaxis": {
         "anchor": "y",
         "domain": [
          0,
          1
         ],
         "title": {
          "text": "frequency"
         }
        },
        "yaxis": {
         "anchor": "x",
         "domain": [
          0,
          1
         ],
         "title": {
          "text": "Cost Per Click (CPC)"
         }
        }
       }
      }
     },
     "metadata": {},
     "output_type": "display_data"
    }
   ],
   "source": [
    "cost_per_click_data = pd.cut(data_except_group['Cost Per Click (CPC)'], bins = [0.2909,0.752550 , 3.537421, 5.655860, 10.184692]).astype('category').value_counts()\n",
    "fig = px.bar(cost_per_click_data.keys().categories.astype(str),  cost_per_click_data.values, color = cost_per_click_data.values, template= \"plotly_dark\")\n",
    "fig.update_yaxes(title_text='Cost Per Click (CPC)')\n",
    "fig.update_xaxes(title_text='frequency')"
   ]
  },
  {
   "cell_type": "code",
   "execution_count": 95,
   "metadata": {},
   "outputs": [
    {
     "data": {
      "application/vnd.plotly.v1+json": {
       "config": {
        "plotlyServerURL": "https://plot.ly"
       },
       "data": [
        {
         "alignmentgroup": "True",
         "hovertemplate": "index=%{x}<br>y=%{y}<br>color=%{marker.color}<extra></extra>",
         "legendgroup": "",
         "marker": {
          "color": [
           9,
           9,
           8
          ],
          "coloraxis": "coloraxis",
          "pattern": {
           "shape": ""
          }
         },
         "name": "",
         "offsetgroup": "",
         "orientation": "v",
         "showlegend": false,
         "textposition": "auto",
         "type": "bar",
         "x": [
          "25-34",
          "18-24",
          "13-17"
         ],
         "xaxis": "x",
         "y": [
          9,
          9,
          8
         ],
         "yaxis": "y"
        }
       ],
       "layout": {
        "barmode": "relative",
        "coloraxis": {
         "colorbar": {
          "title": {
           "text": "color"
          }
         },
         "colorscale": [
          [
           0,
           "#0d0887"
          ],
          [
           0.1111111111111111,
           "#46039f"
          ],
          [
           0.2222222222222222,
           "#7201a8"
          ],
          [
           0.3333333333333333,
           "#9c179e"
          ],
          [
           0.4444444444444444,
           "#bd3786"
          ],
          [
           0.5555555555555556,
           "#d8576b"
          ],
          [
           0.6666666666666666,
           "#ed7953"
          ],
          [
           0.7777777777777778,
           "#fb9f3a"
          ],
          [
           0.8888888888888888,
           "#fdca26"
          ],
          [
           1,
           "#f0f921"
          ]
         ]
        },
        "legend": {
         "tracegroupgap": 0
        },
        "margin": {
         "t": 60
        },
        "template": {
         "data": {
          "bar": [
           {
            "error_x": {
             "color": "#f2f5fa"
            },
            "error_y": {
             "color": "#f2f5fa"
            },
            "marker": {
             "line": {
              "color": "rgb(17,17,17)",
              "width": 0.5
             },
             "pattern": {
              "fillmode": "overlay",
              "size": 10,
              "solidity": 0.2
             }
            },
            "type": "bar"
           }
          ],
          "barpolar": [
           {
            "marker": {
             "line": {
              "color": "rgb(17,17,17)",
              "width": 0.5
             },
             "pattern": {
              "fillmode": "overlay",
              "size": 10,
              "solidity": 0.2
             }
            },
            "type": "barpolar"
           }
          ],
          "carpet": [
           {
            "aaxis": {
             "endlinecolor": "#A2B1C6",
             "gridcolor": "#506784",
             "linecolor": "#506784",
             "minorgridcolor": "#506784",
             "startlinecolor": "#A2B1C6"
            },
            "baxis": {
             "endlinecolor": "#A2B1C6",
             "gridcolor": "#506784",
             "linecolor": "#506784",
             "minorgridcolor": "#506784",
             "startlinecolor": "#A2B1C6"
            },
            "type": "carpet"
           }
          ],
          "choropleth": [
           {
            "colorbar": {
             "outlinewidth": 0,
             "ticks": ""
            },
            "type": "choropleth"
           }
          ],
          "contour": [
           {
            "colorbar": {
             "outlinewidth": 0,
             "ticks": ""
            },
            "colorscale": [
             [
              0,
              "#0d0887"
             ],
             [
              0.1111111111111111,
              "#46039f"
             ],
             [
              0.2222222222222222,
              "#7201a8"
             ],
             [
              0.3333333333333333,
              "#9c179e"
             ],
             [
              0.4444444444444444,
              "#bd3786"
             ],
             [
              0.5555555555555556,
              "#d8576b"
             ],
             [
              0.6666666666666666,
              "#ed7953"
             ],
             [
              0.7777777777777778,
              "#fb9f3a"
             ],
             [
              0.8888888888888888,
              "#fdca26"
             ],
             [
              1,
              "#f0f921"
             ]
            ],
            "type": "contour"
           }
          ],
          "contourcarpet": [
           {
            "colorbar": {
             "outlinewidth": 0,
             "ticks": ""
            },
            "type": "contourcarpet"
           }
          ],
          "heatmap": [
           {
            "colorbar": {
             "outlinewidth": 0,
             "ticks": ""
            },
            "colorscale": [
             [
              0,
              "#0d0887"
             ],
             [
              0.1111111111111111,
              "#46039f"
             ],
             [
              0.2222222222222222,
              "#7201a8"
             ],
             [
              0.3333333333333333,
              "#9c179e"
             ],
             [
              0.4444444444444444,
              "#bd3786"
             ],
             [
              0.5555555555555556,
              "#d8576b"
             ],
             [
              0.6666666666666666,
              "#ed7953"
             ],
             [
              0.7777777777777778,
              "#fb9f3a"
             ],
             [
              0.8888888888888888,
              "#fdca26"
             ],
             [
              1,
              "#f0f921"
             ]
            ],
            "type": "heatmap"
           }
          ],
          "heatmapgl": [
           {
            "colorbar": {
             "outlinewidth": 0,
             "ticks": ""
            },
            "colorscale": [
             [
              0,
              "#0d0887"
             ],
             [
              0.1111111111111111,
              "#46039f"
             ],
             [
              0.2222222222222222,
              "#7201a8"
             ],
             [
              0.3333333333333333,
              "#9c179e"
             ],
             [
              0.4444444444444444,
              "#bd3786"
             ],
             [
              0.5555555555555556,
              "#d8576b"
             ],
             [
              0.6666666666666666,
              "#ed7953"
             ],
             [
              0.7777777777777778,
              "#fb9f3a"
             ],
             [
              0.8888888888888888,
              "#fdca26"
             ],
             [
              1,
              "#f0f921"
             ]
            ],
            "type": "heatmapgl"
           }
          ],
          "histogram": [
           {
            "marker": {
             "pattern": {
              "fillmode": "overlay",
              "size": 10,
              "solidity": 0.2
             }
            },
            "type": "histogram"
           }
          ],
          "histogram2d": [
           {
            "colorbar": {
             "outlinewidth": 0,
             "ticks": ""
            },
            "colorscale": [
             [
              0,
              "#0d0887"
             ],
             [
              0.1111111111111111,
              "#46039f"
             ],
             [
              0.2222222222222222,
              "#7201a8"
             ],
             [
              0.3333333333333333,
              "#9c179e"
             ],
             [
              0.4444444444444444,
              "#bd3786"
             ],
             [
              0.5555555555555556,
              "#d8576b"
             ],
             [
              0.6666666666666666,
              "#ed7953"
             ],
             [
              0.7777777777777778,
              "#fb9f3a"
             ],
             [
              0.8888888888888888,
              "#fdca26"
             ],
             [
              1,
              "#f0f921"
             ]
            ],
            "type": "histogram2d"
           }
          ],
          "histogram2dcontour": [
           {
            "colorbar": {
             "outlinewidth": 0,
             "ticks": ""
            },
            "colorscale": [
             [
              0,
              "#0d0887"
             ],
             [
              0.1111111111111111,
              "#46039f"
             ],
             [
              0.2222222222222222,
              "#7201a8"
             ],
             [
              0.3333333333333333,
              "#9c179e"
             ],
             [
              0.4444444444444444,
              "#bd3786"
             ],
             [
              0.5555555555555556,
              "#d8576b"
             ],
             [
              0.6666666666666666,
              "#ed7953"
             ],
             [
              0.7777777777777778,
              "#fb9f3a"
             ],
             [
              0.8888888888888888,
              "#fdca26"
             ],
             [
              1,
              "#f0f921"
             ]
            ],
            "type": "histogram2dcontour"
           }
          ],
          "mesh3d": [
           {
            "colorbar": {
             "outlinewidth": 0,
             "ticks": ""
            },
            "type": "mesh3d"
           }
          ],
          "parcoords": [
           {
            "line": {
             "colorbar": {
              "outlinewidth": 0,
              "ticks": ""
             }
            },
            "type": "parcoords"
           }
          ],
          "pie": [
           {
            "automargin": true,
            "type": "pie"
           }
          ],
          "scatter": [
           {
            "marker": {
             "line": {
              "color": "#283442"
             }
            },
            "type": "scatter"
           }
          ],
          "scatter3d": [
           {
            "line": {
             "colorbar": {
              "outlinewidth": 0,
              "ticks": ""
             }
            },
            "marker": {
             "colorbar": {
              "outlinewidth": 0,
              "ticks": ""
             }
            },
            "type": "scatter3d"
           }
          ],
          "scattercarpet": [
           {
            "marker": {
             "colorbar": {
              "outlinewidth": 0,
              "ticks": ""
             }
            },
            "type": "scattercarpet"
           }
          ],
          "scattergeo": [
           {
            "marker": {
             "colorbar": {
              "outlinewidth": 0,
              "ticks": ""
             }
            },
            "type": "scattergeo"
           }
          ],
          "scattergl": [
           {
            "marker": {
             "line": {
              "color": "#283442"
             }
            },
            "type": "scattergl"
           }
          ],
          "scattermapbox": [
           {
            "marker": {
             "colorbar": {
              "outlinewidth": 0,
              "ticks": ""
             }
            },
            "type": "scattermapbox"
           }
          ],
          "scatterpolar": [
           {
            "marker": {
             "colorbar": {
              "outlinewidth": 0,
              "ticks": ""
             }
            },
            "type": "scatterpolar"
           }
          ],
          "scatterpolargl": [
           {
            "marker": {
             "colorbar": {
              "outlinewidth": 0,
              "ticks": ""
             }
            },
            "type": "scatterpolargl"
           }
          ],
          "scatterternary": [
           {
            "marker": {
             "colorbar": {
              "outlinewidth": 0,
              "ticks": ""
             }
            },
            "type": "scatterternary"
           }
          ],
          "surface": [
           {
            "colorbar": {
             "outlinewidth": 0,
             "ticks": ""
            },
            "colorscale": [
             [
              0,
              "#0d0887"
             ],
             [
              0.1111111111111111,
              "#46039f"
             ],
             [
              0.2222222222222222,
              "#7201a8"
             ],
             [
              0.3333333333333333,
              "#9c179e"
             ],
             [
              0.4444444444444444,
              "#bd3786"
             ],
             [
              0.5555555555555556,
              "#d8576b"
             ],
             [
              0.6666666666666666,
              "#ed7953"
             ],
             [
              0.7777777777777778,
              "#fb9f3a"
             ],
             [
              0.8888888888888888,
              "#fdca26"
             ],
             [
              1,
              "#f0f921"
             ]
            ],
            "type": "surface"
           }
          ],
          "table": [
           {
            "cells": {
             "fill": {
              "color": "#506784"
             },
             "line": {
              "color": "rgb(17,17,17)"
             }
            },
            "header": {
             "fill": {
              "color": "#2a3f5f"
             },
             "line": {
              "color": "rgb(17,17,17)"
             }
            },
            "type": "table"
           }
          ]
         },
         "layout": {
          "annotationdefaults": {
           "arrowcolor": "#f2f5fa",
           "arrowhead": 0,
           "arrowwidth": 1
          },
          "autotypenumbers": "strict",
          "coloraxis": {
           "colorbar": {
            "outlinewidth": 0,
            "ticks": ""
           }
          },
          "colorscale": {
           "diverging": [
            [
             0,
             "#8e0152"
            ],
            [
             0.1,
             "#c51b7d"
            ],
            [
             0.2,
             "#de77ae"
            ],
            [
             0.3,
             "#f1b6da"
            ],
            [
             0.4,
             "#fde0ef"
            ],
            [
             0.5,
             "#f7f7f7"
            ],
            [
             0.6,
             "#e6f5d0"
            ],
            [
             0.7,
             "#b8e186"
            ],
            [
             0.8,
             "#7fbc41"
            ],
            [
             0.9,
             "#4d9221"
            ],
            [
             1,
             "#276419"
            ]
           ],
           "sequential": [
            [
             0,
             "#0d0887"
            ],
            [
             0.1111111111111111,
             "#46039f"
            ],
            [
             0.2222222222222222,
             "#7201a8"
            ],
            [
             0.3333333333333333,
             "#9c179e"
            ],
            [
             0.4444444444444444,
             "#bd3786"
            ],
            [
             0.5555555555555556,
             "#d8576b"
            ],
            [
             0.6666666666666666,
             "#ed7953"
            ],
            [
             0.7777777777777778,
             "#fb9f3a"
            ],
            [
             0.8888888888888888,
             "#fdca26"
            ],
            [
             1,
             "#f0f921"
            ]
           ],
           "sequentialminus": [
            [
             0,
             "#0d0887"
            ],
            [
             0.1111111111111111,
             "#46039f"
            ],
            [
             0.2222222222222222,
             "#7201a8"
            ],
            [
             0.3333333333333333,
             "#9c179e"
            ],
            [
             0.4444444444444444,
             "#bd3786"
            ],
            [
             0.5555555555555556,
             "#d8576b"
            ],
            [
             0.6666666666666666,
             "#ed7953"
            ],
            [
             0.7777777777777778,
             "#fb9f3a"
            ],
            [
             0.8888888888888888,
             "#fdca26"
            ],
            [
             1,
             "#f0f921"
            ]
           ]
          },
          "colorway": [
           "#636efa",
           "#EF553B",
           "#00cc96",
           "#ab63fa",
           "#FFA15A",
           "#19d3f3",
           "#FF6692",
           "#B6E880",
           "#FF97FF",
           "#FECB52"
          ],
          "font": {
           "color": "#f2f5fa"
          },
          "geo": {
           "bgcolor": "rgb(17,17,17)",
           "lakecolor": "rgb(17,17,17)",
           "landcolor": "rgb(17,17,17)",
           "showlakes": true,
           "showland": true,
           "subunitcolor": "#506784"
          },
          "hoverlabel": {
           "align": "left"
          },
          "hovermode": "closest",
          "mapbox": {
           "style": "dark"
          },
          "paper_bgcolor": "rgb(17,17,17)",
          "plot_bgcolor": "rgb(17,17,17)",
          "polar": {
           "angularaxis": {
            "gridcolor": "#506784",
            "linecolor": "#506784",
            "ticks": ""
           },
           "bgcolor": "rgb(17,17,17)",
           "radialaxis": {
            "gridcolor": "#506784",
            "linecolor": "#506784",
            "ticks": ""
           }
          },
          "scene": {
           "xaxis": {
            "backgroundcolor": "rgb(17,17,17)",
            "gridcolor": "#506784",
            "gridwidth": 2,
            "linecolor": "#506784",
            "showbackground": true,
            "ticks": "",
            "zerolinecolor": "#C8D4E3"
           },
           "yaxis": {
            "backgroundcolor": "rgb(17,17,17)",
            "gridcolor": "#506784",
            "gridwidth": 2,
            "linecolor": "#506784",
            "showbackground": true,
            "ticks": "",
            "zerolinecolor": "#C8D4E3"
           },
           "zaxis": {
            "backgroundcolor": "rgb(17,17,17)",
            "gridcolor": "#506784",
            "gridwidth": 2,
            "linecolor": "#506784",
            "showbackground": true,
            "ticks": "",
            "zerolinecolor": "#C8D4E3"
           }
          },
          "shapedefaults": {
           "line": {
            "color": "#f2f5fa"
           }
          },
          "sliderdefaults": {
           "bgcolor": "#C8D4E3",
           "bordercolor": "rgb(17,17,17)",
           "borderwidth": 1,
           "tickwidth": 0
          },
          "ternary": {
           "aaxis": {
            "gridcolor": "#506784",
            "linecolor": "#506784",
            "ticks": ""
           },
           "baxis": {
            "gridcolor": "#506784",
            "linecolor": "#506784",
            "ticks": ""
           },
           "bgcolor": "rgb(17,17,17)",
           "caxis": {
            "gridcolor": "#506784",
            "linecolor": "#506784",
            "ticks": ""
           }
          },
          "title": {
           "x": 0.05
          },
          "updatemenudefaults": {
           "bgcolor": "#506784",
           "borderwidth": 0
          },
          "xaxis": {
           "automargin": true,
           "gridcolor": "#283442",
           "linecolor": "#506784",
           "ticks": "",
           "title": {
            "standoff": 15
           },
           "zerolinecolor": "#283442",
           "zerolinewidth": 2
          },
          "yaxis": {
           "automargin": true,
           "gridcolor": "#283442",
           "linecolor": "#506784",
           "ticks": "",
           "title": {
            "standoff": 15
           },
           "zerolinecolor": "#283442",
           "zerolinewidth": 2
          }
         }
        },
        "xaxis": {
         "anchor": "y",
         "domain": [
          0,
          1
         ],
         "title": {
          "text": "Age"
         }
        },
        "yaxis": {
         "anchor": "x",
         "domain": [
          0,
          1
         ],
         "title": {
          "text": "Count"
         }
        }
       }
      }
     },
     "metadata": {},
     "output_type": "display_data"
    }
   ],
   "source": [
    "age_data = data_except_group.Age.value_counts()\n",
    "fig = px.bar(age_data, x = age_data.index, y = age_data.values, color = age_data.values, template= \"plotly_dark\",)\n",
    "fig.update_layout(xaxis_title = \"Age\", yaxis_title = \"Count\")"
   ]
  },
  {
   "cell_type": "code",
   "execution_count": 27,
   "metadata": {},
   "outputs": [
    {
     "data": {
      "text/plain": [
       "4     (0, 100]\n",
       "5     (0, 100]\n",
       "6     (0, 100]\n",
       "7     (0, 100]\n",
       "8     (0, 100]\n",
       "9     (0, 100]\n",
       "13    (0, 100]\n",
       "14    (0, 100]\n",
       "15    (0, 100]\n",
       "16    (0, 100]\n",
       "17    (0, 100]\n",
       "18    (0, 100]\n",
       "19    (0, 100]\n",
       "20    (0, 100]\n",
       "21    (0, 100]\n",
       "22    (0, 100]\n",
       "23    (0, 100]\n",
       "24    (0, 100]\n",
       "25    (0, 100]\n",
       "26    (0, 100]\n",
       "27    (0, 100]\n",
       "28    (0, 100]\n",
       "29    (0, 100]\n",
       "30    (0, 100]\n",
       "31    (0, 100]\n",
       "32    (0, 100]\n",
       "Name: Cost Per Click (CPC), dtype: category\n",
       "Categories (8, interval[int64, right]): [(0, 100] < (100, 1000] < (1000, 10000] < (10000, 100000] < (100000, 1000000] < (1000000, 10000000] < (10000000, 100000000] < (100000000, 1000000000]]"
      ]
     },
     "execution_count": 27,
     "metadata": {},
     "output_type": "execute_result"
    }
   ],
   "source": [
    "pd.cut(data_except_group[\"Cost Per Click (CPC)\"], bins = [0.290938, 100, 1000, 10000, 100000, 1000000, 10000000, 100000000])"
   ]
  },
  {
   "cell_type": "code",
   "execution_count": null,
   "metadata": {},
   "outputs": [],
   "source": []
  }
 ],
 "metadata": {
  "interpreter": {
   "hash": "e55666fbbf217aa3df372b978577f47b6009e2f78e2ec76a584f49cd54a1e62c"
  },
  "kernelspec": {
   "display_name": "Python 2.7.18 64-bit",
   "language": "python",
   "name": "python3"
  },
  "language_info": {
   "codemirror_mode": {
    "name": "ipython",
    "version": 3
   },
   "file_extension": ".py",
   "mimetype": "text/x-python",
   "name": "python",
   "nbconvert_exporter": "python",
   "pygments_lexer": "ipython3",
   "version": "3.8.10"
  },
  "orig_nbformat": 4
 },
 "nbformat": 4,
 "nbformat_minor": 2
}
